{
 "cells": [
  {
   "cell_type": "code",
   "execution_count": 1,
   "metadata": {},
   "outputs": [
    {
     "name": "stderr",
     "output_type": "stream",
     "text": [
      "/home/karan/.local/lib/python3.6/site-packages/ipykernel_launcher.py:13: DeprecationWarning: This package has been superseded by the `leidenalg` package and will no longer be maintained. Please upgrade to the `leidenalg` package.\n",
      "  del sys.path[0]\n"
     ]
    }
   ],
   "source": [
    "import numpy as np\n",
    "import os\n",
    "\n",
    "from scipy.spatial import distance\n",
    "import pandas as pd\n",
    "import matplotlib.pyplot as plt    \n",
    "import networkx as nx\n",
    "import copy\n",
    "from scipy import stats\n",
    "from copy import deepcopy\n",
    "import time\n",
    "\n",
    "import louvain\n",
    "import leidenalg\n",
    "import igraph as ig"
   ]
  },
  {
   "cell_type": "code",
   "execution_count": 2,
   "metadata": {},
   "outputs": [],
   "source": [
    "A_directed = np.load(\"adjacency_synaptic_cleft_5.000um.npy\")"
   ]
  },
  {
   "cell_type": "code",
   "execution_count": 2,
   "metadata": {},
   "outputs": [],
   "source": [
    "neuron_names = pd.read_csv(\"neuron_names.txt\", header=None).iloc[:,0].tolist()"
   ]
  },
  {
   "cell_type": "markdown",
   "metadata": {},
   "source": [
    "# Directed"
   ]
  },
  {
   "cell_type": "code",
   "execution_count": 4,
   "metadata": {},
   "outputs": [],
   "source": [
    "def get_graph_directed(adj_matfile, neuron_namesfile):\n",
    "    # import the adjacency matrix from text file\n",
    "    adjacency = np.load(adj_matfile)\n",
    "    #print(\"Shape of adjacency matrix:\", adjacency.shape)\n",
    "\n",
    "    # import names of each neuron\n",
    "    f = open(neuron_namesfile,\"r\") #opens file with name of \"test.txt\"\n",
    "    neuron_names = []\n",
    "    for line in f:\n",
    "        neuron_names.append(line[:-1]) #[:-1] because we don't want /n in the end.  \n",
    "    #print((neuron_names2))\n",
    "    n_neurons = len(neuron_names)\n",
    "    #print(\"Total number of neurons:\",n_neurons)\n",
    "    \n",
    "    # create node and node attributes which is the name for the graph\n",
    "    nodes_list = []\n",
    "    for i in range(len(neuron_names)):\n",
    "        #node attribute is given by its neuron name\n",
    "        nodes_list.append((i,{\"name\":neuron_names[i]}))\n",
    "    #print(len(nodes_list))\n",
    "\n",
    "    # creating an edge list from adjacency matrix\n",
    "    edge_list=[]\n",
    "    for i in range(len(neuron_names)):\n",
    "        for j in range(len(neuron_names)):\n",
    "            if adjacency[i,j]==0: # if there's no weight, let's forget the edge.\n",
    "                pass\n",
    "            else:\n",
    "                edge_list.append( (i,j,{\"weight\":adjacency[i,j],\"Label\":\"%s - %s\"%(neuron_names[i],neuron_names[j])}) )\n",
    "    # Creating a directed graph from adjacency matrix so that it will be easy to deal using the networkx module\n",
    "\n",
    "    G = nx.DiGraph()\n",
    "\n",
    "    # Add all the nodes to the graph\n",
    "    G.add_nodes_from(nodes_list)\n",
    "    # Add all the edges to the graph\n",
    "    G.add_edges_from(edge_list)\n",
    "    \n",
    "  \n",
    "    return G#adjacency, neuron_names, n_neurons, G\n"
   ]
  },
  {
   "cell_type": "code",
   "execution_count": 5,
   "metadata": {},
   "outputs": [
    {
     "name": "stdout",
     "output_type": "stream",
     "text": [
      "CPU times: user 13.7 s, sys: 0 ns, total: 13.7 s\n",
      "Wall time: 13.7 s\n"
     ]
    }
   ],
   "source": [
    "%%time\n",
    "fname = \"adjacency_synaptic_cleft_5.000um.npy\"\n",
    "\n",
    "#fname = \"./neurites_axonTermials/adjacency_axon25July.txt\"#+str(10)+\".txt\"\n",
    "\n",
    "G_dir_nx = get_graph_directed(fname, \"neuron_names.txt\")\n",
    "GC_dir_nx =  G_dir_nx.subgraph(max(nx.weakly_connected_components(G_dir_nx), key=len))"
   ]
  },
  {
   "cell_type": "code",
   "execution_count": null,
   "metadata": {},
   "outputs": [],
   "source": []
  },
  {
   "cell_type": "code",
   "execution_count": 6,
   "metadata": {},
   "outputs": [
    {
     "name": "stdout",
     "output_type": "stream",
     "text": [
      "CPU times: user 513 ms, sys: 0 ns, total: 513 ms\n",
      "Wall time: 536 ms\n"
     ]
    }
   ],
   "source": [
    "%%time\n",
    "# convert nx graph to igraph\n",
    "GC_dir_ig = ig.Graph.from_networkx(GC_dir_nx)"
   ]
  },
  {
   "cell_type": "code",
   "execution_count": 39,
   "metadata": {},
   "outputs": [
    {
     "name": "stdout",
     "output_type": "stream",
     "text": [
      "CPU times: user 3.59 s, sys: 240 ms, total: 3.84 s\n",
      "Wall time: 6min 17s\n"
     ]
    }
   ],
   "source": [
    "%%time\n",
    "\n",
    "from concurrent.futures import ProcessPoolExecutor\n",
    "\n",
    "def communities_loop(args):\n",
    "    graph, nreps, seed = args\n",
    "    np.random.seed(seed)\n",
    "    \n",
    "    list_communities = []\n",
    "    while len(list_communities) < nreps:\n",
    "        dir_leiden = leidenalg.find_partition(graph, leidenalg.ModularityVertexPartition, weights=\"weight\")\n",
    "        if np.unique(dir_leiden.membership).size == 9:\n",
    "            list_communities.append(dir_leiden.membership)\n",
    "\n",
    "    return list_communities\n",
    "\n",
    "nloops = 10\n",
    "seeds = np.random.randint(0, int(1e6), size = nloops)\n",
    "\n",
    "with ProcessPoolExecutor() as executor:\n",
    "    parallel_res = executor.map(communities_loop,\n",
    "                                zip([GC_dir_ig]*nloops,\n",
    "                                    [10**3]*nloops,\n",
    "                                    seeds))\n",
    "list_communities = []\n",
    "for res in parallel_res:\n",
    "    [list_communities.append(i) for i in res]"
   ]
  },
  {
   "cell_type": "code",
   "execution_count": 40,
   "metadata": {},
   "outputs": [
    {
     "data": {
      "text/plain": [
       "10000"
      ]
     },
     "execution_count": 40,
     "metadata": {},
     "output_type": "execute_result"
    }
   ],
   "source": [
    "len(list_communities)"
   ]
  },
  {
   "cell_type": "code",
   "execution_count": 41,
   "metadata": {
    "scrolled": true
   },
   "outputs": [],
   "source": [
    "#list_communities = []\n",
    "#while len(list_communities) < 10**3:\n",
    "#    dir_leiden = leidenalg.find_partition(GC_dir_ig, leidenalg.ModularityVertexPartition, weights=\"weight\")\n",
    "#    if np.unique(dir_leiden.membership).size == 9:\n",
    "#        list_communities.append(dir_leiden.membership)"
   ]
  },
  {
   "cell_type": "code",
   "execution_count": 42,
   "metadata": {},
   "outputs": [],
   "source": [
    "def find_communities(list_communities, idx_communities):\n",
    "    comm = []\n",
    "    for idx in idx_communities:\n",
    "        comm.append(np.where(np.array(list_communities) == idx)[0])\n",
    "    return comm\n",
    "\n",
    "def find_overlap(comm_check, comm_truth):\n",
    "    overlap = np.zeros((len(comm_truth), len(comm_check)), dtype = np.float64)\n",
    "    for i, comm_i in enumerate(comm_truth):\n",
    "        for j, comm_j in enumerate(comm_check):\n",
    "            overlap[i][j] = np.intersect1d(comm_i, comm_j).size/(comm_i.size + comm_j.size)\n",
    "    return overlap\n",
    "\n",
    "def relabel_communities(idx_comm, comm_truth, list_communities, idx_communities):\n",
    "    old_comm_list = list_communities[idx_comm]\n",
    "    overlap = find_overlap(find_communities(old_comm_list, idx_communities),\n",
    "                           comm_truth)\n",
    "    \n",
    "    new_idxs = np.argmax(overlap, axis = 0)\n",
    "    new_comm_list = np.empty(len(old_comm_list))\n",
    "    \n",
    "    for idx, old_val in enumerate(old_comm_list):\n",
    "        new_comm_list[idx] = new_idxs[old_val]\n",
    "    \n",
    "    return new_comm_list"
   ]
  },
  {
   "cell_type": "code",
   "execution_count": 43,
   "metadata": {},
   "outputs": [],
   "source": [
    "idx_communities = np.arange(9)\n",
    "comm_truth = find_communities(list_communities[0], idx_communities)"
   ]
  },
  {
   "cell_type": "code",
   "execution_count": 44,
   "metadata": {},
   "outputs": [
    {
     "data": {
      "text/plain": [
       "<matplotlib.image.AxesImage at 0x7f93fbe39370>"
      ]
     },
     "execution_count": 44,
     "metadata": {},
     "output_type": "execute_result"
    },
    {
     "data": {
      "image/png": "[encoded data removed]",
      "text/plain": [
       "<Figure size 432x288 with 1 Axes>"
      ]
     },
     "metadata": {
      "needs_background": "light"
     },
     "output_type": "display_data"
    }
   ],
   "source": [
    "plt.imshow(find_overlap(find_communities(list_communities[443], idx_communities), comm_truth))"
   ]
  },
  {
   "cell_type": "code",
   "execution_count": 45,
   "metadata": {},
   "outputs": [
    {
     "data": {
      "text/plain": [
       "<matplotlib.image.AxesImage at 0x7f93fbe39490>"
      ]
     },
     "execution_count": 45,
     "metadata": {},
     "output_type": "execute_result"
    },
    {
     "data": {
      "image/png": "[encoded data removed]",
      "text/plain": [
       "<Figure size 432x288 with 1 Axes>"
      ]
     },
     "metadata": {
      "needs_background": "light"
     },
     "output_type": "display_data"
    }
   ],
   "source": [
    "test = relabel_communities(443, comm_truth, list_communities, idx_communities)\n",
    "plt.imshow(find_overlap(find_communities(test, idx_communities), comm_truth))"
   ]
  },
  {
   "cell_type": "code",
   "execution_count": 46,
   "metadata": {},
   "outputs": [
    {
     "name": "stdout",
     "output_type": "stream",
     "text": [
      "CPU times: user 48.2 s, sys: 104 ms, total: 48.3 s\n",
      "Wall time: 48.3 s\n"
     ]
    }
   ],
   "source": [
    "%%time\n",
    "\n",
    "relabeled_comm_list = []\n",
    "for idx in range(len(list_communities)):\n",
    "    relabeled_comm_list.append(relabel_communities(idx, comm_truth,\n",
    "                                                   list_communities, idx_communities))\n",
    "    \n",
    "relabeled_comm_list = np.array(relabeled_comm_list).astype(np.int8)"
   ]
  },
  {
   "cell_type": "code",
   "execution_count": 47,
   "metadata": {},
   "outputs": [
    {
     "data": {
      "text/plain": [
       "(10000, 3116)"
      ]
     },
     "execution_count": 47,
     "metadata": {},
     "output_type": "execute_result"
    }
   ],
   "source": [
    "relabeled_comm_list.shape"
   ]
  },
  {
   "cell_type": "code",
   "execution_count": null,
   "metadata": {},
   "outputs": [],
   "source": []
  },
  {
   "cell_type": "code",
   "execution_count": 48,
   "metadata": {},
   "outputs": [],
   "source": [
    "final_communities = np.empty(relabeled_comm_list.shape[1])\n",
    "for idx, rep in enumerate(relabeled_comm_list.T):\n",
    "    final_communities[idx] = np.bincount(rep).argmax()"
   ]
  },
  {
   "cell_type": "code",
   "execution_count": 49,
   "metadata": {},
   "outputs": [
    {
     "data": {
      "text/plain": [
       "array([1., 1., 1., ..., 1., 1., 0.])"
      ]
     },
     "execution_count": 49,
     "metadata": {},
     "output_type": "execute_result"
    }
   ],
   "source": [
    "final_communities"
   ]
  },
  {
   "cell_type": "code",
   "execution_count": 50,
   "metadata": {},
   "outputs": [],
   "source": [
    "leiden_community_dict = dict(zip(list(GC_dir_ig.vs['_nx_name']), final_communities.astype(np.int8)))"
   ]
  },
  {
   "cell_type": "code",
   "execution_count": null,
   "metadata": {},
   "outputs": [],
   "source": [
    "leiden_community_dict"
   ]
  },
  {
   "cell_type": "code",
   "execution_count": 52,
   "metadata": {},
   "outputs": [],
   "source": [
    "from matplotlib import patches\n",
    "# http://sociograph.blogspot.com/2012/11/visualizing-adjacency-matrices-in-python.html\n",
    "\n",
    "def draw_adjacency_matrix(G, node_order=None, partitions=[], colors=[]):\n",
    "    \"\"\"\n",
    "    - G is a networkx graph\n",
    "    - node_order (optional) is a list of nodes, where each node in G\n",
    "          appears exactly once\n",
    "    - partitions is a list of node lists, where each node in G appears\n",
    "          in exactly one node list\n",
    "    - colors is a list of strings indicating what color each\n",
    "          partition should be\n",
    "    If partitions is specified, the same number of colors needs to be\n",
    "    specified.\n",
    "    \"\"\"\n",
    "    adjacency_matrix = nx.to_numpy_matrix(G, dtype=bool, nodelist=node_order)\n",
    "\n",
    "    #Plot adjacency matrix in toned-down black and white\n",
    "    fig = plt.figure(figsize=(5, 5)) # in inches\n",
    "    plt.imshow(adjacency_matrix,\n",
    "                  cmap=\"Greys\",\n",
    "                  interpolation=\"none\")\n",
    "    \n",
    "    # The rest is just if you have sorted nodes by a partition and want to\n",
    "    # highlight the module boundaries\n",
    "    #print(partitions)\n",
    "    assert len(partitions) == len(colors)\n",
    "    ax = plt.gca()\n",
    "    for partition, color in zip(partitions, colors):\n",
    "        current_idx = 0\n",
    "        for module in partition:\n",
    "            ax.add_patch(patches.Rectangle((current_idx, current_idx),\n",
    "                                          len(module), # Width\n",
    "                                          len(module), # Height\n",
    "                                          facecolor=\"none\",\n",
    "                                          edgecolor=color,\n",
    "                                          linewidth=\"1\"))\n",
    "            current_idx += len(module)"
   ]
  },
  {
   "cell_type": "code",
   "execution_count": 53,
   "metadata": {},
   "outputs": [],
   "source": [
    "def findMiddle(input_list):\n",
    "    middle = float(len(input_list))/2\n",
    "    if middle % 2 != 0:\n",
    "        return input_list[int(middle - .5)]\n",
    "    else:\n",
    "        return int((input_list[int(middle)] + input_list[int(middle-1)])/2)"
   ]
  },
  {
   "cell_type": "code",
   "execution_count": 54,
   "metadata": {},
   "outputs": [],
   "source": [
    "from collections import defaultdict\n",
    "\n",
    "def plot_community_matrix(G_nx, G_ig, louvain_community_dict):\n",
    "\n",
    "    louvain_comms = defaultdict(list)\n",
    "    for node_index, comm_id in louvain_community_dict.items():\n",
    "        louvain_comms[comm_id].append(node_index)\n",
    "        \n",
    "    ordered_comm_keys = list(louvain_comms.keys())\n",
    "    # order_comm_list_values is simply all the members of a community\n",
    "    mid_point_ticks = [findMiddle(list(order_comm_list_values)) for order_comm_list_values in louvain_comms.values() ]\n",
    "    \n",
    "    # partition 0 to N based on community size\n",
    "    partitioned_list_02N = []\n",
    "    count=0\n",
    "    for value in louvain_comms.values():\n",
    "        sublist = []\n",
    "        for i in range(len(value)):\n",
    "            sublist.append(count)\n",
    "            count+=1\n",
    "        partitioned_list_02N.append(sublist)\n",
    "    \n",
    "    mid_point_ticks = [np.mean(sublist) for sublist in partitioned_list_02N ]\n",
    "    \n",
    "    louvain_comms = louvain_comms.values()\n",
    "\n",
    "\n",
    "    nodes_louvain_ordered = [node for comm in louvain_comms for node in comm]\n",
    "    draw_adjacency_matrix(G_nx, nodes_louvain_ordered, [louvain_comms], [\"blue\"])\n",
    "    \n",
    "    xticks_comm_name = ordered_comm_keys \n",
    "    plt.xticks(mid_point_ticks, xticks_comm_name)\n",
    "    plt.yticks(mid_point_ticks, xticks_comm_name)\n",
    "\n",
    "    plt.title(\"No. of comms: %d\"%(len(louvain_comms)))\n"
   ]
  },
  {
   "cell_type": "code",
   "execution_count": 55,
   "metadata": {},
   "outputs": [
    {
     "data": {
      "image/png": "[encoded data removed]",
      "text/plain": [
       "<Figure size 360x360 with 1 Axes>"
      ]
     },
     "metadata": {
      "needs_background": "light"
     },
     "output_type": "display_data"
    }
   ],
   "source": [
    "plot_community_matrix(GC_dir_nx, GC_dir_ig, leiden_community_dict)"
   ]
  },
  {
   "cell_type": "code",
   "execution_count": 56,
   "metadata": {},
   "outputs": [
    {
     "data": {
      "text/plain": [
       "(array([931., 630., 624., 327., 339., 234.,  27.,   2.]),\n",
       " array([-0.5,  0.5,  1.5,  2.5,  3.5,  4.5,  5.5,  6.5,  7.5]),\n",
       " <BarContainer object of 8 artists>)"
      ]
     },
     "execution_count": 56,
     "metadata": {},
     "output_type": "execute_result"
    },
    {
     "data": {
      "image/png": "[encoded data removed]",
      "text/plain": [
       "<Figure size 432x288 with 1 Axes>"
      ]
     },
     "metadata": {
      "needs_background": "light"
     },
     "output_type": "display_data"
    }
   ],
   "source": [
    "plt.hist(final_communities, bins = np.arange(9)-0.5)"
   ]
  },
  {
   "cell_type": "code",
   "execution_count": 32,
   "metadata": {},
   "outputs": [],
   "source": [
    "def Community_save(Graph, membership, filename):    \n",
    "    df = pd.DataFrame()\n",
    "    df['Node'] = Graph.vs['_nx_name']\n",
    "    df['Community'] = membership\n",
    "    df['Name'] = Graph.vs['name']\n",
    "    \n",
    "    df.to_csv(filename+\".csv\", index=False)\n",
    "\n",
    "    \n",
    "    comm_num_list = df[\"Community\"].unique().tolist()\n",
    "    \n",
    "    size_list = []\n",
    "    for comm_num in comm_num_list:\n",
    "        df_comm = df[df[\"Community\"]==comm_num]\n",
    "        #df_comm.to_csv(filename+str(comm_num)+\".csv\", index=False)\n",
    "        size_list.append(len(df_comm))\n",
    "    \n",
    "    fig = plt.figure()\n",
    "    ax = fig.add_axes([0,0,1,1])\n",
    "    ax.bar(comm_num_list,size_list)\n",
    "    plt.xlabel(\"Community\", size=15)\n",
    "    plt.ylabel(\"Size\", size=15)\n",
    "    plt.title(\"No. of comm: %d\"%len(comm_num_list))\n",
    "    plt.show()"
   ]
  },
  {
   "cell_type": "code",
   "execution_count": 63,
   "metadata": {},
   "outputs": [
    {
     "data": {
      "image/png": "[encoded data removed]",
      "text/plain": [
       "<Figure size 432x288 with 1 Axes>"
      ]
     },
     "metadata": {
      "needs_background": "light"
     },
     "output_type": "display_data"
    }
   ],
   "source": [
    "Community_save(GC_dir_ig, final_communities, \"averaged_dir_leiden\")"
   ]
  },
  {
   "cell_type": "code",
   "execution_count": null,
   "metadata": {},
   "outputs": [],
   "source": []
  },
  {
   "cell_type": "code",
   "execution_count": null,
   "metadata": {},
   "outputs": [],
   "source": [
    "df = pd.read_csv(\"averaged_dir_leiden.csv\")\n",
    "df"
   ]
  },
  {
   "cell_type": "code",
   "execution_count": null,
   "metadata": {},
   "outputs": [],
   "source": [
    "df.groupby(\"Community\").get_group(1)"
   ]
  },
  {
   "cell_type": "code",
   "execution_count": null,
   "metadata": {},
   "outputs": [],
   "source": []
  },
  {
   "cell_type": "markdown",
   "metadata": {},
   "source": [
    "# Visualization of the communities"
   ]
  },
  {
   "cell_type": "code",
   "execution_count": 3,
   "metadata": {},
   "outputs": [],
   "source": [
    "\n",
    "import matplotlib\n",
    "\n",
    "def plot_community(csv_file, community_file_path, file_name):    \n",
    "    if not os.path.exists(community_file_path):\n",
    "        os.makedirs(community_file_path)\n",
    "\n",
    "    df_all = pd.read_csv(csv_file)\n",
    "    \n",
    "    cmt_num = df_all.Community.unique().tolist()\n",
    "    cmap = matplotlib.cm.get_cmap('tab10')\n",
    "\n",
    "    colors = [cmap(i)[:3] for i in range(10)]+[\"yellow\", \"firebrick\"]\n",
    "    \n",
    "    for i in cmt_num:\n",
    "        \n",
    "        \n",
    "        df = df_all.groupby(\"Community\").get_group(i)\n",
    "\n",
    "        community_xyz =[] \n",
    "        neuron_names_community = df.Name.tolist()\n",
    "\n",
    "        file_path = \"./strhl_num_1_dataset/\"\n",
    "        for name in neuron_names_community:\n",
    "            pos_xyz = list(np.loadtxt(file_path+name+\".swc\")[0,2:5])\n",
    "            community_xyz.append(pos_xyz)\n",
    "        community_xyz = np.array(community_xyz)    \n",
    "        x =  community_xyz[:,0]\n",
    "        y = community_xyz[:,1] \n",
    "        z = community_xyz[:,2]\n",
    "\n",
    "        plt.figure(figsize=(17,5))\n",
    "        # Top view\n",
    "        plt.subplot(1,2,1)       \n",
    "\n",
    "        plt.scatter(y, x,alpha=0.7,s=20,c = colors[int(i)])        \n",
    "        plt.tick_params(direction='in',bottom=True,top=True,left=True,right=True)\n",
    "        plt.grid(linestyle='--',alpha=0.5,which='both')\n",
    "        plt.xlabel(\"Y coordinate\",size=16)\n",
    "        plt.ylabel(\"X coordinate\",size=16)\n",
    "        plt.title(\"TOP VIEW\",size=18)\n",
    "\n",
    "\n",
    "        # Side view\n",
    "\n",
    "        plt.subplot(1,2,2)       \n",
    "\n",
    "        plt.scatter(y, z,alpha=0.20,s=25,c = colors[int(i)]) \n",
    "        plt.tick_params(direction='in',bottom=True,top=True,left=True,right=True)\n",
    "        plt.grid(linestyle='--',alpha=0.5,which='both')\n",
    "        plt.xlabel(\"Y coordinate\",size=16)\n",
    "        plt.ylabel(\"Z coordinate\",size=16)\n",
    "        \n",
    "\n",
    "        plt.savefig(community_file_path+file_name+\"_mod\"+str(int(i))+'.png', facecolor=\"white\")\n",
    "        plt.close()\n",
    "    \n",
    "    #plt.show()"
   ]
  },
  {
   "cell_type": "code",
   "execution_count": null,
   "metadata": {},
   "outputs": [],
   "source": [
    "plot_community(\"averaged_dir_leiden.csv\",\"./dir_cmt_anatomical_plots/\", \"dir_leiden\")"
   ]
  },
  {
   "cell_type": "code",
   "execution_count": null,
   "metadata": {},
   "outputs": [],
   "source": []
  },
  {
   "cell_type": "code",
   "execution_count": null,
   "metadata": {},
   "outputs": [],
   "source": [
    "plot_community(\"averaged_undir_leiden.csv\",\"./undir_cmt_anatomical_plots/\", \"undir_leiden\")"
   ]
  },
  {
   "cell_type": "code",
   "execution_count": null,
   "metadata": {},
   "outputs": [],
   "source": []
  },
  {
   "cell_type": "code",
   "execution_count": null,
   "metadata": {},
   "outputs": [],
   "source": []
  },
  {
   "cell_type": "markdown",
   "metadata": {},
   "source": [
    "# Average Subcommunities for undirected comm 2 "
   ]
  },
  {
   "cell_type": "code",
   "execution_count": 7,
   "metadata": {},
   "outputs": [],
   "source": [
    "def get_graph_undirected(adjacency, neuron_namesfile):\n",
    "    G = nx.from_numpy_matrix(adjacency)#, create_using=nx.MultiGraph)\n",
    "    f = open(neuron_namesfile,\"r\") #opens file with name of \"test.txt\"\n",
    "    neuron_names = []\n",
    "    for line in f:\n",
    "        neuron_names.append(line[:-1]) #[:-1] because we don't want /n in the end.  \n",
    "        \n",
    "    nx.set_node_attributes(G, dict(zip(list(G.nodes()),neuron_names)) , \"name\")    \n",
    "    return G\n"
   ]
  },
  {
   "cell_type": "code",
   "execution_count": null,
   "metadata": {},
   "outputs": [],
   "source": [
    "A_undirected = np.load(\"undirected_adj_synaptic_cleft_5.000 um.npy\")\n",
    "\n",
    "G_undir_nx = get_graph_undirected(A_undirected, \"neuron_names.txt\")\n",
    "\n",
    "components = nx.connected_components(G_undir_nx)\n",
    "lcclist = sorted(list(components), key = len, reverse=True)\n",
    "\n",
    "GC_undir_nx = nx.subgraph(G_undir_nx, lcclist[0])\n",
    "\n",
    "GC_undir_ig = ig.Graph.from_networkx(GC_undir_nx)\n"
   ]
  },
  {
   "cell_type": "code",
   "execution_count": 17,
   "metadata": {},
   "outputs": [],
   "source": [
    "cmt_num=2\n",
    "df_all = pd.read_csv(\"averaged_undir_leiden.csv\")\n",
    "\n",
    "df = df_all.groupby(\"Community\").get_group(cmt_num)\n",
    "\n",
    "# node numbers of all neurons for a given community\n",
    "comm_nodes = df.Node.tolist()\n",
    "\n",
    "delete_nodes = set(range(3163))-set(comm_nodes)\n",
    "\n",
    "comm_graph = deepcopy(GC_undir_nx)\n",
    "\n",
    "comm_graph = nx.DiGraph(comm_graph)\n",
    "\n",
    "comm_graph.remove_nodes_from(  list(delete_nodes) )\n",
    "\n",
    "GC_subgraph_ig = ig.Graph.from_networkx(comm_graph)\n",
    "\n",
    "\n",
    "    \n",
    "    \n",
    "    "
   ]
  },
  {
   "cell_type": "code",
   "execution_count": 19,
   "metadata": {},
   "outputs": [
    {
     "name": "stdout",
     "output_type": "stream",
     "text": [
      "CPU times: user 380 ms, sys: 69.1 ms, total: 449 ms\n",
      "Wall time: 1min 53s\n"
     ]
    }
   ],
   "source": [
    "%%time\n",
    "\n",
    "# no of subcommunities of comm. no. 2 is roughly constant at 5 after investigation. \n",
    "\n",
    "#nComm = []\n",
    "#for i in range(100):\n",
    "#    subcomm_membership = leidenalg.find_partition(GC_subgraph_ig, leidenalg.ModularityVertexPartition, weights=\"weight\")\n",
    "\n",
    "#    nComm.append(len(np.unique(subcomm_membership.membership)))\n",
    "# Counter(nComm)\n",
    "\n",
    "from concurrent.futures import ProcessPoolExecutor\n",
    "\n",
    "def communities_loop(args):\n",
    "    graph, nreps, seed = args\n",
    "    np.random.seed(seed)\n",
    "    \n",
    "    list_communities = []\n",
    "    while len(list_communities) < nreps:\n",
    "        dir_leiden = leidenalg.find_partition(graph, leidenalg.ModularityVertexPartition, weights=\"weight\")\n",
    "        if np.unique(dir_leiden.membership).size == 5:\n",
    "            list_communities.append(dir_leiden.membership)\n",
    "\n",
    "    return list_communities\n",
    "\n",
    "nloops = 10\n",
    "seeds = np.random.randint(0, int(1e6), size = nloops)\n",
    "\n",
    "with ProcessPoolExecutor() as executor:\n",
    "    parallel_res = executor.map(communities_loop,\n",
    "                                zip([GC_subgraph_ig]*nloops,\n",
    "                                    [10**3]*nloops,\n",
    "                                    seeds))\n",
    "list_communities = []\n",
    "for res in parallel_res:\n",
    "    [list_communities.append(i) for i in res]"
   ]
  },
  {
   "cell_type": "code",
   "execution_count": 20,
   "metadata": {},
   "outputs": [
    {
     "data": {
      "text/plain": [
       "10000"
      ]
     },
     "execution_count": 20,
     "metadata": {},
     "output_type": "execute_result"
    }
   ],
   "source": [
    "len(list_communities)"
   ]
  },
  {
   "cell_type": "code",
   "execution_count": 21,
   "metadata": {},
   "outputs": [],
   "source": [
    "def find_communities(list_communities, idx_communities):\n",
    "    comm = []\n",
    "    for idx in idx_communities:\n",
    "        comm.append(np.where(np.array(list_communities) == idx)[0])\n",
    "    return comm\n",
    "\n",
    "def find_overlap(comm_check, comm_truth):\n",
    "    overlap = np.zeros((len(comm_truth), len(comm_check)), dtype = np.float64)\n",
    "    for i, comm_i in enumerate(comm_truth):\n",
    "        for j, comm_j in enumerate(comm_check):\n",
    "            overlap[i][j] = np.intersect1d(comm_i, comm_j).size/(comm_i.size + comm_j.size)\n",
    "    return overlap\n",
    "\n",
    "def relabel_communities(idx_comm, comm_truth, list_communities, idx_communities):\n",
    "    old_comm_list = list_communities[idx_comm]\n",
    "    overlap = find_overlap(find_communities(old_comm_list, idx_communities),\n",
    "                           comm_truth)\n",
    "    \n",
    "    new_idxs = np.argmax(overlap, axis = 0)\n",
    "    new_comm_list = np.empty(len(old_comm_list))\n",
    "    \n",
    "    for idx, old_val in enumerate(old_comm_list):\n",
    "        new_comm_list[idx] = new_idxs[old_val]\n",
    "    \n",
    "    return new_comm_list"
   ]
  },
  {
   "cell_type": "code",
   "execution_count": 22,
   "metadata": {},
   "outputs": [],
   "source": [
    "idx_communities = np.array(list(range(5)))\n",
    "comm_truth = find_communities(list_communities[0], idx_communities)"
   ]
  },
  {
   "cell_type": "code",
   "execution_count": 23,
   "metadata": {},
   "outputs": [
    {
     "name": "stdout",
     "output_type": "stream",
     "text": [
      "CPU times: user 9.65 s, sys: 55.1 ms, total: 9.7 s\n",
      "Wall time: 9.87 s\n"
     ]
    }
   ],
   "source": [
    "%%time\n",
    "\n",
    "relabeled_comm_list = []\n",
    "for idx in range(len(list_communities)):\n",
    "    relabeled_comm_list.append(relabel_communities(idx, comm_truth,\n",
    "                                                   list_communities, idx_communities))\n",
    "    \n",
    "relabeled_comm_list = np.array(relabeled_comm_list).astype(np.int8)"
   ]
  },
  {
   "cell_type": "code",
   "execution_count": 27,
   "metadata": {},
   "outputs": [
    {
     "data": {
      "text/plain": [
       "556"
      ]
     },
     "execution_count": 27,
     "metadata": {},
     "output_type": "execute_result"
    }
   ],
   "source": [
    "comm_graph.number_of_nodes()"
   ]
  },
  {
   "cell_type": "code",
   "execution_count": 24,
   "metadata": {},
   "outputs": [
    {
     "data": {
      "text/plain": [
       "(10000, 556)"
      ]
     },
     "execution_count": 24,
     "metadata": {},
     "output_type": "execute_result"
    }
   ],
   "source": [
    "relabeled_comm_list.shape\n"
   ]
  },
  {
   "cell_type": "code",
   "execution_count": 28,
   "metadata": {},
   "outputs": [],
   "source": [
    "\n",
    "final_communities = np.empty(relabeled_comm_list.shape[1])\n",
    "for idx, rep in enumerate(relabeled_comm_list.T):\n",
    "    final_communities[idx] = np.bincount(rep).argmax()\n",
    "    \n",
    "leiden_community_dict = dict(zip(list(GC_subgraph_ig.vs['_nx_name']), final_communities.astype(np.int8)))    "
   ]
  },
  {
   "cell_type": "code",
   "execution_count": 31,
   "metadata": {},
   "outputs": [],
   "source": [
    "def Community_save(Graph, membership, filename):    \n",
    "    df = pd.DataFrame()\n",
    "    df['Node'] = Graph.vs['_nx_name']\n",
    "    df['Community'] = membership\n",
    "    df['Name'] = Graph.vs['name']\n",
    "    \n",
    "    df.to_csv(filename+\".csv\", index=False)\n",
    "\n",
    "    \n",
    "    comm_num_list = df[\"Community\"].unique().tolist()\n",
    "    \n",
    "    size_list = []\n",
    "    for comm_num in comm_num_list:\n",
    "        df_comm = df[df[\"Community\"]==comm_num]\n",
    "        #df_comm.to_csv(filename+str(comm_num)+\".csv\", index=False)\n",
    "        size_list.append(len(df_comm))\n",
    "    \n",
    "    fig = plt.figure()\n",
    "    ax = fig.add_axes([0,0,1,1])\n",
    "    ax.bar(comm_num_list,size_list)\n",
    "    plt.xlabel(\"Community\", size=15)\n",
    "    plt.ylabel(\"Size\", size=15)\n",
    "    plt.title(\"No. of comm: %d\"%len(comm_num_list))\n",
    "    plt.show()"
   ]
  },
  {
   "cell_type": "code",
   "execution_count": 33,
   "metadata": {},
   "outputs": [
    {
     "data": {
      "image/png": "[encoded data removed]",
      "text/plain": [
       "<Figure size 432x288 with 1 Axes>"
      ]
     },
     "metadata": {
      "needs_background": "light"
     },
     "output_type": "display_data"
    }
   ],
   "source": [
    "Community_save(GC_subgraph_ig, final_communities, \"average_subComm3\")"
   ]
  },
  {
   "cell_type": "code",
   "execution_count": 36,
   "metadata": {},
   "outputs": [],
   "source": [
    "\n",
    "import matplotlib\n",
    "\n",
    "def plot_community(subcomm_fname):    \n",
    "    df_all = pd.read_csv(subcomm_fname)\n",
    "    cmt_num = sorted(df_all.Community.unique().tolist())\n",
    "    cmap = matplotlib.cm.get_cmap('tab10')\n",
    "\n",
    "    colors = [cmap(i)[:3] for i in range(10)]+[\"yellow\", \"firebrick\"]\n",
    "    \n",
    "    plt.figure(figsize=(8,5))\n",
    "        \n",
    "    for i in cmt_num:\n",
    "        \n",
    "        df = df_all.groupby(\"Community\").get_group(i)\n",
    "\n",
    "        community_xyz =[] \n",
    "        neuron_names_community = df.Name.tolist()\n",
    "\n",
    "        file_path = \"./strhl_num_1_dataset/\"\n",
    "        for name in neuron_names_community:\n",
    "            pos_xyz = list(np.loadtxt(file_path+name+\".swc\")[0,2:5])\n",
    "            community_xyz.append(pos_xyz)\n",
    "        community_xyz = np.array(community_xyz)    \n",
    "        x =  community_xyz[:,0]\n",
    "        y = community_xyz[:,1] \n",
    "        z = community_xyz[:,2]\n",
    "\n",
    "        plt.scatter(y, x,alpha=0.7,s=20,c = colors[int(i)], label=\"sub-comm %d\"%i)        \n",
    "    \n",
    "    plt.tick_params(direction='in',bottom=True,top=True,left=True,right=True)\n",
    "    plt.legend(loc=\"best\")\n",
    "    plt.grid(linestyle='--',alpha=0.5,which='both')\n",
    "    plt.xlabel(\"Y coordinate\",size=15)\n",
    "    plt.ylabel(\"X coordinate\",size=15)\n",
    "    plt.title( \"TOP VIEW, UC%s\"%(subcomm_fname[-5] ),size=16)\n",
    "    plt.savefig('%s.png'%subcomm_fname[:-4], facecolor=\"white\")\n",
    "    #plt.close()\n",
    "    \n",
    "    #plt.show()"
   ]
  },
  {
   "cell_type": "code",
   "execution_count": 37,
   "metadata": {},
   "outputs": [
    {
     "name": "stderr",
     "output_type": "stream",
     "text": [
      "*c* argument looks like a single numeric RGB or RGBA sequence, which should be avoided as value-mapping will have precedence in case its length matches with *x* & *y*.  Please use the *color* keyword-argument or provide a 2-D array with a single row if you intend to specify the same RGB or RGBA value for all points.\n",
      "*c* argument looks like a single numeric RGB or RGBA sequence, which should be avoided as value-mapping will have precedence in case its length matches with *x* & *y*.  Please use the *color* keyword-argument or provide a 2-D array with a single row if you intend to specify the same RGB or RGBA value for all points.\n",
      "*c* argument looks like a single numeric RGB or RGBA sequence, which should be avoided as value-mapping will have precedence in case its length matches with *x* & *y*.  Please use the *color* keyword-argument or provide a 2-D array with a single row if you intend to specify the same RGB or RGBA value for all points.\n",
      "*c* argument looks like a single numeric RGB or RGBA sequence, which should be avoided as value-mapping will have precedence in case its length matches with *x* & *y*.  Please use the *color* keyword-argument or provide a 2-D array with a single row if you intend to specify the same RGB or RGBA value for all points.\n",
      "*c* argument looks like a single numeric RGB or RGBA sequence, which should be avoided as value-mapping will have precedence in case its length matches with *x* & *y*.  Please use the *color* keyword-argument or provide a 2-D array with a single row if you intend to specify the same RGB or RGBA value for all points.\n"
     ]
    },
    {
     "data": {
      "image/png": "[encoded data removed]",
      "text/plain": [
       "<Figure size 576x360 with 1 Axes>"
      ]
     },
     "metadata": {
      "needs_background": "light"
     },
     "output_type": "display_data"
    }
   ],
   "source": [
    "plot_community(\"average_subComm3.csv\")"
   ]
  },
  {
   "cell_type": "code",
   "execution_count": null,
   "metadata": {},
   "outputs": [],
   "source": []
  },
  {
   "cell_type": "code",
   "execution_count": null,
   "metadata": {},
   "outputs": [],
   "source": []
  },
  {
   "cell_type": "markdown",
   "metadata": {},
   "source": [
    "# Average Subcommunities for undirected comm mod 3 "
   ]
  },
  {
   "cell_type": "code",
   "execution_count": 40,
   "metadata": {},
   "outputs": [],
   "source": [
    "cmt_num=3\n",
    "df_all = pd.read_csv(\"averaged_undir_leiden.csv\")\n",
    "\n",
    "df = df_all.groupby(\"Community\").get_group(cmt_num)\n",
    "\n",
    "# node numbers of all neurons for a given community\n",
    "comm_nodes = df.Node.tolist()\n",
    "\n",
    "delete_nodes = set(range(3163))-set(comm_nodes)\n",
    "\n",
    "comm_graph = deepcopy(GC_undir_nx)\n",
    "\n",
    "comm_graph = nx.DiGraph(comm_graph)\n",
    "\n",
    "comm_graph.remove_nodes_from(  list(delete_nodes) )\n",
    "\n",
    "GC_subgraph_ig = ig.Graph.from_networkx(comm_graph)\n",
    "\n",
    "\n",
    "    \n",
    "    \n",
    "    "
   ]
  },
  {
   "cell_type": "code",
   "execution_count": 39,
   "metadata": {},
   "outputs": [
    {
     "name": "stdout",
     "output_type": "stream",
     "text": [
      "Counter({6: 66, 7: 34})\n"
     ]
    }
   ],
   "source": [
    "nComm = []\n",
    "for i in range(100):\n",
    "    subcomm_membership = leidenalg.find_partition(GC_subgraph_ig, leidenalg.ModularityVertexPartition, weights=\"weight\")\n",
    "\n",
    "    nComm.append(len(np.unique(subcomm_membership.membership)))\n",
    "print(Counter(nComm))\n"
   ]
  },
  {
   "cell_type": "code",
   "execution_count": 41,
   "metadata": {},
   "outputs": [
    {
     "name": "stdout",
     "output_type": "stream",
     "text": [
      "CPU times: user 239 ms, sys: 63.9 ms, total: 303 ms\n",
      "Wall time: 5min 33s\n"
     ]
    }
   ],
   "source": [
    "%%time\n",
    "\n",
    "# no of subcommunities of comm. no. 2 is roughly constant at 6 after investigation. \n",
    "\n",
    "#nComm = []\n",
    "#for i in range(100):\n",
    "#    subcomm_membership = leidenalg.find_partition(GC_subgraph_ig, leidenalg.ModularityVertexPartition, weights=\"weight\")\n",
    "\n",
    "#    nComm.append(len(np.unique(subcomm_membership.membership)))\n",
    "# Counter(nComm)\n",
    "\n",
    "from concurrent.futures import ProcessPoolExecutor\n",
    "\n",
    "def communities_loop(args):\n",
    "    graph, nreps, seed = args\n",
    "    np.random.seed(seed)\n",
    "    \n",
    "    list_communities = []\n",
    "    while len(list_communities) < nreps:\n",
    "        dir_leiden = leidenalg.find_partition(graph, leidenalg.ModularityVertexPartition, weights=\"weight\")\n",
    "        if np.unique(dir_leiden.membership).size == 6:\n",
    "            list_communities.append(dir_leiden.membership)\n",
    "\n",
    "    return list_communities\n",
    "\n",
    "nloops = 10\n",
    "seeds = np.random.randint(0, int(1e6), size = nloops)\n",
    "\n",
    "with ProcessPoolExecutor() as executor:\n",
    "    parallel_res = executor.map(communities_loop,\n",
    "                                zip([GC_subgraph_ig]*nloops,\n",
    "                                    [10**3]*nloops,\n",
    "                                    seeds))\n",
    "list_communities = []\n",
    "for res in parallel_res:\n",
    "    [list_communities.append(i) for i in res]"
   ]
  },
  {
   "cell_type": "code",
   "execution_count": 43,
   "metadata": {},
   "outputs": [
    {
     "data": {
      "text/plain": [
       "10000"
      ]
     },
     "execution_count": 43,
     "metadata": {},
     "output_type": "execute_result"
    }
   ],
   "source": [
    "len(list_communities)"
   ]
  },
  {
   "cell_type": "code",
   "execution_count": 42,
   "metadata": {},
   "outputs": [],
   "source": [
    "def find_communities(list_communities, idx_communities):\n",
    "    comm = []\n",
    "    for idx in idx_communities:\n",
    "        comm.append(np.where(np.array(list_communities) == idx)[0])\n",
    "    return comm\n",
    "\n",
    "def find_overlap(comm_check, comm_truth):\n",
    "    overlap = np.zeros((len(comm_truth), len(comm_check)), dtype = np.float64)\n",
    "    for i, comm_i in enumerate(comm_truth):\n",
    "        for j, comm_j in enumerate(comm_check):\n",
    "            overlap[i][j] = np.intersect1d(comm_i, comm_j).size/(comm_i.size + comm_j.size)\n",
    "    return overlap\n",
    "\n",
    "def relabel_communities(idx_comm, comm_truth, list_communities, idx_communities):\n",
    "    old_comm_list = list_communities[idx_comm]\n",
    "    overlap = find_overlap(find_communities(old_comm_list, idx_communities),\n",
    "                           comm_truth)\n",
    "    \n",
    "    new_idxs = np.argmax(overlap, axis = 0)\n",
    "    new_comm_list = np.empty(len(old_comm_list))\n",
    "    \n",
    "    for idx, old_val in enumerate(old_comm_list):\n",
    "        new_comm_list[idx] = new_idxs[old_val]\n",
    "    \n",
    "    return new_comm_list"
   ]
  },
  {
   "cell_type": "code",
   "execution_count": 44,
   "metadata": {},
   "outputs": [],
   "source": [
    "idx_communities = np.array(list(range(6)))\n",
    "comm_truth = find_communities(list_communities[0], idx_communities)"
   ]
  },
  {
   "cell_type": "code",
   "execution_count": 45,
   "metadata": {},
   "outputs": [
    {
     "name": "stdout",
     "output_type": "stream",
     "text": [
      "CPU times: user 11 s, sys: 39.2 ms, total: 11 s\n",
      "Wall time: 11 s\n"
     ]
    }
   ],
   "source": [
    "%%time\n",
    "\n",
    "relabeled_comm_list = []\n",
    "for idx in range(len(list_communities)):\n",
    "    relabeled_comm_list.append(relabel_communities(idx, comm_truth,\n",
    "                                                   list_communities, idx_communities))\n",
    "    \n",
    "relabeled_comm_list = np.array(relabeled_comm_list).astype(np.int8)"
   ]
  },
  {
   "cell_type": "code",
   "execution_count": 46,
   "metadata": {},
   "outputs": [
    {
     "name": "stdout",
     "output_type": "stream",
     "text": [
      "371\n",
      "(10000, 371)\n"
     ]
    }
   ],
   "source": [
    "print(comm_graph.number_of_nodes())\n",
    "print(relabeled_comm_list.shape)\n",
    "\n"
   ]
  },
  {
   "cell_type": "code",
   "execution_count": 47,
   "metadata": {},
   "outputs": [],
   "source": [
    "final_communities = np.empty(relabeled_comm_list.shape[1])\n",
    "for idx, rep in enumerate(relabeled_comm_list.T):\n",
    "    final_communities[idx] = np.bincount(rep).argmax()\n",
    "    \n",
    "leiden_community_dict = dict(zip(list(GC_subgraph_ig.vs['_nx_name']), final_communities.astype(np.int8)))    \n",
    "\n",
    "\n"
   ]
  },
  {
   "cell_type": "code",
   "execution_count": 48,
   "metadata": {},
   "outputs": [
    {
     "data": {
      "image/png": "[encoded data removed]",
      "text/plain": [
       "<Figure size 432x288 with 1 Axes>"
      ]
     },
     "metadata": {
      "needs_background": "light"
     },
     "output_type": "display_data"
    },
    {
     "name": "stderr",
     "output_type": "stream",
     "text": [
      "*c* argument looks like a single numeric RGB or RGBA sequence, which should be avoided as value-mapping will have precedence in case its length matches with *x* & *y*.  Please use the *color* keyword-argument or provide a 2-D array with a single row if you intend to specify the same RGB or RGBA value for all points.\n",
      "*c* argument looks like a single numeric RGB or RGBA sequence, which should be avoided as value-mapping will have precedence in case its length matches with *x* & *y*.  Please use the *color* keyword-argument or provide a 2-D array with a single row if you intend to specify the same RGB or RGBA value for all points.\n",
      "*c* argument looks like a single numeric RGB or RGBA sequence, which should be avoided as value-mapping will have precedence in case its length matches with *x* & *y*.  Please use the *color* keyword-argument or provide a 2-D array with a single row if you intend to specify the same RGB or RGBA value for all points.\n",
      "*c* argument looks like a single numeric RGB or RGBA sequence, which should be avoided as value-mapping will have precedence in case its length matches with *x* & *y*.  Please use the *color* keyword-argument or provide a 2-D array with a single row if you intend to specify the same RGB or RGBA value for all points.\n",
      "*c* argument looks like a single numeric RGB or RGBA sequence, which should be avoided as value-mapping will have precedence in case its length matches with *x* & *y*.  Please use the *color* keyword-argument or provide a 2-D array with a single row if you intend to specify the same RGB or RGBA value for all points.\n",
      "*c* argument looks like a single numeric RGB or RGBA sequence, which should be avoided as value-mapping will have precedence in case its length matches with *x* & *y*.  Please use the *color* keyword-argument or provide a 2-D array with a single row if you intend to specify the same RGB or RGBA value for all points.\n"
     ]
    },
    {
     "data": {
      "image/png": "[encoded data removed]",
      "text/plain": [
       "<Figure size 576x360 with 1 Axes>"
      ]
     },
     "metadata": {
      "needs_background": "light"
     },
     "output_type": "display_data"
    }
   ],
   "source": [
    "Community_save(GC_subgraph_ig, final_communities, \"average_subComm4\")\n",
    "\n",
    "plot_community(\"average_subComm4.csv\")"
   ]
  },
  {
   "cell_type": "code",
   "execution_count": null,
   "metadata": {},
   "outputs": [],
   "source": []
  }
 ],
 "metadata": {
  "kernelspec": {
   "display_name": "Python 3",
   "language": "python",
   "name": "python3"
  },
  "language_info": {
   "codemirror_mode": {
    "name": "ipython",
    "version": 3
   },
   "file_extension": ".py",
   "mimetype": "text/x-python",
   "name": "python",
   "nbconvert_exporter": "python",
   "pygments_lexer": "ipython3",
   "version": "3.6.9"
  }
 },
 "nbformat": 4,
 "nbformat_minor": 4
}
