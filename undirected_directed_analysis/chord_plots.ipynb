{
 "cells": [
  {
   "cell_type": "code",
   "execution_count": null,
   "metadata": {},
   "outputs": [],
   "source": []
  },
  {
   "cell_type": "code",
   "execution_count": 1,
   "metadata": {},
   "outputs": [
    {
     "name": "stderr",
     "output_type": "stream",
     "text": [
      "========================================\n",
      "circlize version 0.4.15\n",
      "CRAN page: https://cran.r-project.org/package=circlize\n",
      "Github page: https://github.com/jokergoo/circlize\n",
      "Documentation: https://jokergoo.github.io/circlize_book/book/\n",
      "\n",
      "If you use it in published research, please cite:\n",
      "Gu, Z. circlize implements and enhances circular visualization\n",
      "  in R. Bioinformatics 2014.\n",
      "\n",
      "This message can be suppressed by:\n",
      "  suppressPackageStartupMessages(library(circlize))\n",
      "========================================\n",
      "\n",
      "\n"
     ]
    }
   ],
   "source": [
    "library(circlize)\n",
    "\n",
    "# See the link for more info\n",
    "# https://jokergoo.github.io/circlize_book/book/the-chorddiagram-function.html#orders-of-links"
   ]
  },
  {
   "cell_type": "code",
   "execution_count": 230,
   "metadata": {},
   "outputs": [],
   "source": [
    "mat <- scan('dirComm_connect_matrix.txt')\n",
    "mat <- matrix(mat, ncol = 7, nrow=7, byrow = TRUE)\n",
    "\n",
    "rownames(mat) = paste0(\"DC\", 1:(ncol(mat)))\n",
    "colnames(mat) = paste0(\"DC\", 1:(ncol(mat)))\n"
   ]
  },
  {
   "cell_type": "code",
   "execution_count": 231,
   "metadata": {},
   "outputs": [
    {
     "data": {
      "text/html": [
       "<table>\n",
       "<caption>A matrix: 7 × 7 of type dbl</caption>\n",
       "<thead>\n",
       "\t<tr><th></th><th scope=col>DC1</th><th scope=col>DC2</th><th scope=col>DC3</th><th scope=col>DC4</th><th scope=col>DC5</th><th scope=col>DC6</th><th scope=col>DC7</th></tr>\n",
       "</thead>\n",
       "<tbody>\n",
       "\t<tr><th scope=row>DC1</th><td>   0</td><td>2071</td><td>2507</td><td>2859</td><td>606</td><td>189</td><td>45</td></tr>\n",
       "\t<tr><th scope=row>DC2</th><td>3088</td><td>   0</td><td>1766</td><td> 875</td><td>520</td><td>165</td><td> 0</td></tr>\n",
       "\t<tr><th scope=row>DC3</th><td>3810</td><td>2532</td><td>   0</td><td> 957</td><td>622</td><td>447</td><td>11</td></tr>\n",
       "\t<tr><th scope=row>DC4</th><td>3359</td><td> 721</td><td> 531</td><td>   0</td><td> 11</td><td>872</td><td> 1</td></tr>\n",
       "\t<tr><th scope=row>DC5</th><td>1373</td><td> 199</td><td> 853</td><td> 199</td><td>  0</td><td> 15</td><td> 0</td></tr>\n",
       "\t<tr><th scope=row>DC6</th><td> 375</td><td> 373</td><td> 265</td><td>1530</td><td> 21</td><td>  0</td><td> 0</td></tr>\n",
       "\t<tr><th scope=row>DC7</th><td>  23</td><td>   2</td><td>   4</td><td>   0</td><td>  0</td><td>  0</td><td> 0</td></tr>\n",
       "</tbody>\n",
       "</table>\n"
      ],
      "text/latex": [
       "A matrix: 7 × 7 of type dbl\n",
       "\\begin{tabular}{r|lllllll}\n",
       "  & DC1 & DC2 & DC3 & DC4 & DC5 & DC6 & DC7\\\\\n",
       "\\hline\n",
       "\tDC1 &    0 & 2071 & 2507 & 2859 & 606 & 189 & 45\\\\\n",
       "\tDC2 & 3088 &    0 & 1766 &  875 & 520 & 165 &  0\\\\\n",
       "\tDC3 & 3810 & 2532 &    0 &  957 & 622 & 447 & 11\\\\\n",
       "\tDC4 & 3359 &  721 &  531 &    0 &  11 & 872 &  1\\\\\n",
       "\tDC5 & 1373 &  199 &  853 &  199 &   0 &  15 &  0\\\\\n",
       "\tDC6 &  375 &  373 &  265 & 1530 &  21 &   0 &  0\\\\\n",
       "\tDC7 &   23 &    2 &    4 &    0 &   0 &   0 &  0\\\\\n",
       "\\end{tabular}\n"
      ],
      "text/markdown": [
       "\n",
       "A matrix: 7 × 7 of type dbl\n",
       "\n",
       "| <!--/--> | DC1 | DC2 | DC3 | DC4 | DC5 | DC6 | DC7 |\n",
       "|---|---|---|---|---|---|---|---|\n",
       "| DC1 |    0 | 2071 | 2507 | 2859 | 606 | 189 | 45 |\n",
       "| DC2 | 3088 |    0 | 1766 |  875 | 520 | 165 |  0 |\n",
       "| DC3 | 3810 | 2532 |    0 |  957 | 622 | 447 | 11 |\n",
       "| DC4 | 3359 |  721 |  531 |    0 |  11 | 872 |  1 |\n",
       "| DC5 | 1373 |  199 |  853 |  199 |   0 |  15 |  0 |\n",
       "| DC6 |  375 |  373 |  265 | 1530 |  21 |   0 |  0 |\n",
       "| DC7 |   23 |    2 |    4 |    0 |   0 |   0 |  0 |\n",
       "\n"
      ],
      "text/plain": [
       "    DC1  DC2  DC3  DC4  DC5 DC6 DC7\n",
       "DC1    0 2071 2507 2859 606 189 45 \n",
       "DC2 3088    0 1766  875 520 165  0 \n",
       "DC3 3810 2532    0  957 622 447 11 \n",
       "DC4 3359  721  531    0  11 872  1 \n",
       "DC5 1373  199  853  199   0  15  0 \n",
       "DC6  375  373  265 1530  21   0  0 \n",
       "DC7   23    2    4    0   0   0  0 "
      ]
     },
     "metadata": {},
     "output_type": "display_data"
    }
   ],
   "source": [
    "mat"
   ]
  },
  {
   "cell_type": "code",
   "execution_count": 2,
   "metadata": {},
   "outputs": [],
   "source": [
    "library(repr)\n",
    "\n",
    "# Change plot size to 4 x 3\n",
    "options(repr.plot.width=10, repr.plot.height=10)"
   ]
  },
  {
   "cell_type": "code",
   "execution_count": 3,
   "metadata": {},
   "outputs": [],
   "source": [
    "library(\"RColorBrewer\")\n",
    "# tab10 = c('#1f77b4', '#ff7f0e', '#2ca02c', \n",
    "#'#d62728', '#9467bd', '#8c564b', '#e377c2', '#7f7f7f', '#bcbd22', '#17becf')"
   ]
  },
  {
   "cell_type": "code",
   "execution_count": 234,
   "metadata": {},
   "outputs": [
    {
     "data": {
      "text/html": [
       "<strong>png:</strong> 2"
      ],
      "text/latex": [
       "\\textbf{png:} 2"
      ],
      "text/markdown": [
       "**png:** 2"
      ],
      "text/plain": [
       "png \n",
       "  2 "
      ]
     },
     "metadata": {},
     "output_type": "display_data"
    }
   ],
   "source": [
    "# zindex -  it improves the visualization to put wide links more\n",
    "# forward and to put small links more backward in the plot.\n",
    "\n",
    "# Argument directional is used to illustrate such direction on the plot. directional with value \n",
    "# 1 means the direction is from rows to columns (or from the first column to the second column \n",
    "# for the adjacency list)\n",
    "\n",
    "# scale=TRUE for percent wise depiction\n",
    "\n",
    "pdf(\"dirComm_connect_chordPlot.pdf\",\n",
    "    #res=600,\n",
    "    bg=\"white\",width=8, height=8\n",
    "    )\n",
    "\n",
    "\n",
    "#par(cex=2.5)\n",
    "circos.par(gap.after = rep(5, ncol(mat)))\n",
    "#color_set = brewer.pal(n = ncol(mat), name = \"Set1\")\n",
    "color_set = c('#1f77b4', '#ff7f0e', '#2ca02c', '#d62728', \n",
    "             '#9467bd', '#8c564b', '#e377c2', '#7f7f7f', '#bcbd22', '#17becf')[1:nrow(mat)]\n",
    "\n",
    "#c('#1f77b4', '#ff7f0e', '#2ca02c', '#d62728', '#9467bd', '#8c564b')\n",
    "\n",
    "chordDiagram(mat, grid.col = color_set, transparency=0.2, link.zindex = rank(mat), \n",
    "             directional=1,direction.type = c(\"diffHeight\", \"arrows\"), link.arr.type = \"big.arrow\",\n",
    "             diffHeight = mm_h(3), \n",
    "              scale=TRUE, annotationTrack = \"grid\", preAllocateTracks = 1,)\n",
    "            #direction.type = \"arrows\", link.arr.length = 0.2)\n",
    "            #annotationTrack =  c(\"name\", \"grid\")    \n",
    "            #link.lwd = 1, link.lty = 1, link.border = 1, \n",
    "             \n",
    "circos.trackPlotRegion(track.index = 1, panel.fun = function(x, y) {\n",
    "    xlim = get.cell.meta.data(\"xlim\")\n",
    "    ylim = get.cell.meta.data(\"ylim\")\n",
    "    sector.name = get.cell.meta.data(\"sector.index\")\n",
    "    circos.text(mean(xlim), \n",
    "                ylim[1] + .1, \n",
    "                sector.name, \n",
    "                facing = \"inside\",#\"clockwise\", \n",
    "                niceFacing = TRUE, \n",
    "                adj = c(0.5, -0.8), \n",
    "                cex=1)#col=grid.col[sector.name],\n",
    "    circos.axis(h = \"top\", \n",
    "                labels.cex = 1, \n",
    "                major.tick.length = 0.3, \n",
    "                sector.index = sector.name, \n",
    "                track.index = 2)\n",
    "}, bg.border = NA)\n",
    "\n",
    "dev.off()"
   ]
  },
  {
   "cell_type": "code",
   "execution_count": 233,
   "metadata": {},
   "outputs": [],
   "source": [
    "circos.clear()"
   ]
  },
  {
   "cell_type": "code",
   "execution_count": null,
   "metadata": {},
   "outputs": [],
   "source": []
  },
  {
   "cell_type": "code",
   "execution_count": null,
   "metadata": {},
   "outputs": [],
   "source": []
  },
  {
   "cell_type": "markdown",
   "metadata": {},
   "source": [
    "# Undirected communities"
   ]
  },
  {
   "cell_type": "code",
   "execution_count": 227,
   "metadata": {},
   "outputs": [],
   "source": [
    "mat <- scan('undirComm_connect_matrix.txt')\n",
    "mat <- matrix(mat, ncol = 8, nrow=8, byrow = TRUE)\n",
    "rownames(mat) = paste0(\"UC\", 1:(nrow(mat)))\n",
    "colnames(mat) = paste0(\"UC\", 1:(ncol(mat)))\n",
    "\n"
   ]
  },
  {
   "cell_type": "code",
   "execution_count": 228,
   "metadata": {},
   "outputs": [],
   "source": [
    "circos.clear()"
   ]
  },
  {
   "cell_type": "code",
   "execution_count": 229,
   "metadata": {},
   "outputs": [
    {
     "data": {
      "text/html": [
       "<strong>png:</strong> 2"
      ],
      "text/latex": [
       "\\textbf{png:} 2"
      ],
      "text/markdown": [
       "**png:** 2"
      ],
      "text/plain": [
       "png \n",
       "  2 "
      ]
     },
     "metadata": {},
     "output_type": "display_data"
    }
   ],
   "source": [
    "# zindex -  it improves the visualization to put wide links more\n",
    "# forward and to put small links more backward in the plot.\n",
    "\n",
    "# Argument directional is used to illustrate such direction on the plot. directional with value \n",
    "# 1 means the direction is from rows to columns (or from the first column to the second column \n",
    "# for the adjacency list)\n",
    "\n",
    "# scale=TRUE for percent wise depiction\n",
    "\n",
    "pdf(\"undirComm_connect_chordPlot.pdf\",\n",
    "    #res=600,\n",
    "    bg=\"white\",width=8, height=8\n",
    "    )\n",
    "\n",
    "\n",
    "circos.par(gap.after = rep(5, ncol(mat)))\n",
    "#color_set = brewer.pal(n = ncol(mat), name = \"Set1\")\n",
    "color_set = c('#1f77b4', '#ff7f0e', '#2ca02c', '#d62728', \n",
    "             '#9467bd', '#8c564b', '#e377c2', '#7f7f7f', '#bcbd22', '#17becf')[1:nrow(mat)]\n",
    "\n",
    "min.value = min(mat[mat>0])\n",
    "max.value = max(mat[mat>0])\n",
    "\n",
    "col_fun = colorRamp2(c(min.value, (min.value+max.value)/2, max.value), c(\"red\", \"white\", \"green\"))\n",
    "\n",
    "chordDiagram(mat, grid.col = color_set, col = col_fun, transparency=0.1, symmetric=TRUE, \n",
    "             link.lwd = 1, link.lty = 1, link.border = 1, \n",
    "            scale=TRUE, annotationTrack = \"grid\", preAllocateTracks = 1)\n",
    "\n",
    "\n",
    "circos.trackPlotRegion(track.index = 1, panel.fun = function(x, y) {\n",
    "    xlim = get.cell.meta.data(\"xlim\")\n",
    "    ylim = get.cell.meta.data(\"ylim\")\n",
    "    sector.name = get.cell.meta.data(\"sector.index\")\n",
    "    circos.text(mean(xlim), \n",
    "                ylim[1] + .1, \n",
    "                sector.name, \n",
    "                facing = \"inside\",#\"clockwise\", \n",
    "                niceFacing = TRUE, \n",
    "                adj = c(0.5, -0.8), \n",
    "                 cex=1)#col=grid.col[sector.name],\n",
    "    circos.axis(h = \"top\", \n",
    "                labels.cex = 1, \n",
    "                major.tick.length = 0.3, \n",
    "                sector.index = sector.name, \n",
    "                track.index = 2)\n",
    "}, bg.border = NA)\n",
    "\n",
    "dev.off()"
   ]
  },
  {
   "cell_type": "code",
   "execution_count": 218,
   "metadata": {},
   "outputs": [
    {
     "data": {
      "text/html": [
       "<table>\n",
       "<caption>A matrix: 8 × 8 of type dbl</caption>\n",
       "<thead>\n",
       "\t<tr><th></th><th scope=col>UC1</th><th scope=col>UC2</th><th scope=col>UC3</th><th scope=col>UC4</th><th scope=col>UC5</th><th scope=col>UC6</th><th scope=col>UC7</th><th scope=col>UC8</th></tr>\n",
       "</thead>\n",
       "<tbody>\n",
       "\t<tr><th scope=row>UC1</th><td>    0</td><td>9102</td><td>7122</td><td>5050</td><td>10550</td><td>5370</td><td>1054</td><td>182</td></tr>\n",
       "\t<tr><th scope=row>UC2</th><td> 9102</td><td>   0</td><td>4860</td><td>4443</td><td> 2410</td><td>3289</td><td>1311</td><td> 45</td></tr>\n",
       "\t<tr><th scope=row>UC3</th><td> 7122</td><td>4860</td><td>   0</td><td>1764</td><td> 1809</td><td> 580</td><td> 193</td><td>  4</td></tr>\n",
       "\t<tr><th scope=row>UC4</th><td> 5050</td><td>4443</td><td>1764</td><td>   0</td><td> 1936</td><td>2797</td><td> 832</td><td>  9</td></tr>\n",
       "\t<tr><th scope=row>UC5</th><td>10550</td><td>2410</td><td>1809</td><td>1936</td><td>    0</td><td>1536</td><td>4982</td><td>  0</td></tr>\n",
       "\t<tr><th scope=row>UC6</th><td> 5370</td><td>3289</td><td> 580</td><td>2797</td><td> 1536</td><td>   0</td><td> 533</td><td>  2</td></tr>\n",
       "\t<tr><th scope=row>UC7</th><td> 1054</td><td>1311</td><td> 193</td><td> 832</td><td> 4982</td><td> 533</td><td>   0</td><td>  0</td></tr>\n",
       "\t<tr><th scope=row>UC8</th><td>  182</td><td>  45</td><td>   4</td><td>   9</td><td>    0</td><td>   2</td><td>   0</td><td>  0</td></tr>\n",
       "</tbody>\n",
       "</table>\n"
      ],
      "text/latex": [
       "A matrix: 8 × 8 of type dbl\n",
       "\\begin{tabular}{r|llllllll}\n",
       "  & UC1 & UC2 & UC3 & UC4 & UC5 & UC6 & UC7 & UC8\\\\\n",
       "\\hline\n",
       "\tUC1 &     0 & 9102 & 7122 & 5050 & 10550 & 5370 & 1054 & 182\\\\\n",
       "\tUC2 &  9102 &    0 & 4860 & 4443 &  2410 & 3289 & 1311 &  45\\\\\n",
       "\tUC3 &  7122 & 4860 &    0 & 1764 &  1809 &  580 &  193 &   4\\\\\n",
       "\tUC4 &  5050 & 4443 & 1764 &    0 &  1936 & 2797 &  832 &   9\\\\\n",
       "\tUC5 & 10550 & 2410 & 1809 & 1936 &     0 & 1536 & 4982 &   0\\\\\n",
       "\tUC6 &  5370 & 3289 &  580 & 2797 &  1536 &    0 &  533 &   2\\\\\n",
       "\tUC7 &  1054 & 1311 &  193 &  832 &  4982 &  533 &    0 &   0\\\\\n",
       "\tUC8 &   182 &   45 &    4 &    9 &     0 &    2 &    0 &   0\\\\\n",
       "\\end{tabular}\n"
      ],
      "text/markdown": [
       "\n",
       "A matrix: 8 × 8 of type dbl\n",
       "\n",
       "| <!--/--> | UC1 | UC2 | UC3 | UC4 | UC5 | UC6 | UC7 | UC8 |\n",
       "|---|---|---|---|---|---|---|---|---|\n",
       "| UC1 |     0 | 9102 | 7122 | 5050 | 10550 | 5370 | 1054 | 182 |\n",
       "| UC2 |  9102 |    0 | 4860 | 4443 |  2410 | 3289 | 1311 |  45 |\n",
       "| UC3 |  7122 | 4860 |    0 | 1764 |  1809 |  580 |  193 |   4 |\n",
       "| UC4 |  5050 | 4443 | 1764 |    0 |  1936 | 2797 |  832 |   9 |\n",
       "| UC5 | 10550 | 2410 | 1809 | 1936 |     0 | 1536 | 4982 |   0 |\n",
       "| UC6 |  5370 | 3289 |  580 | 2797 |  1536 |    0 |  533 |   2 |\n",
       "| UC7 |  1054 | 1311 |  193 |  832 |  4982 |  533 |    0 |   0 |\n",
       "| UC8 |   182 |   45 |    4 |    9 |     0 |    2 |    0 |   0 |\n",
       "\n"
      ],
      "text/plain": [
       "    UC1   UC2  UC3  UC4  UC5   UC6  UC7  UC8\n",
       "UC1     0 9102 7122 5050 10550 5370 1054 182\n",
       "UC2  9102    0 4860 4443  2410 3289 1311  45\n",
       "UC3  7122 4860    0 1764  1809  580  193   4\n",
       "UC4  5050 4443 1764    0  1936 2797  832   9\n",
       "UC5 10550 2410 1809 1936     0 1536 4982   0\n",
       "UC6  5370 3289  580 2797  1536    0  533   2\n",
       "UC7  1054 1311  193  832  4982  533    0   0\n",
       "UC8   182   45    4    9     0    2    0   0"
      ]
     },
     "metadata": {},
     "output_type": "display_data"
    }
   ],
   "source": [
    "mat"
   ]
  },
  {
   "cell_type": "code",
   "execution_count": null,
   "metadata": {},
   "outputs": [],
   "source": []
  },
  {
   "cell_type": "code",
   "execution_count": null,
   "metadata": {},
   "outputs": [],
   "source": []
  },
  {
   "cell_type": "markdown",
   "metadata": {},
   "source": [
    "# Sankey like plot"
   ]
  },
  {
   "cell_type": "code",
   "execution_count": 126,
   "metadata": {},
   "outputs": [],
   "source": [
    "mat <- scan(\"undir_dir_commMatrix.txt\")\n",
    "mat <- matrix(mat, ncol = 8, nrow=7, byrow = TRUE)\n",
    "rownames(mat) = paste0(\"DC\", 1:(nrow(mat)))\n",
    "colnames(mat) = paste0(\"UC\", 1:(ncol(mat)))#c('UC1', 'UC4', 'UC2', 'UC5', 'UC3', 'UC6', 'UC7', 'UC8')\n",
    "\n",
    "\n",
    "mat<-t(mat)"
   ]
  },
  {
   "cell_type": "code",
   "execution_count": 131,
   "metadata": {},
   "outputs": [
    {
     "data": {
      "text/html": [
       "<table>\n",
       "<caption>A matrix: 8 × 7 of type dbl</caption>\n",
       "<thead>\n",
       "\t<tr><th></th><th scope=col>DC1</th><th scope=col>DC2</th><th scope=col>DC3</th><th scope=col>DC4</th><th scope=col>DC5</th><th scope=col>DC6</th><th scope=col>DC7</th></tr>\n",
       "</thead>\n",
       "<tbody>\n",
       "\t<tr><th scope=row>UC1</th><td>639</td><td> 19</td><td>  9</td><td>  8</td><td> 23</td><td>  0</td><td> 0</td></tr>\n",
       "\t<tr><th scope=row>UC2</th><td> 21</td><td>  9</td><td>556</td><td>  0</td><td>  4</td><td>  1</td><td> 0</td></tr>\n",
       "\t<tr><th scope=row>UC3</th><td>219</td><td>  2</td><td> 30</td><td>  1</td><td>303</td><td>  0</td><td> 1</td></tr>\n",
       "\t<tr><th scope=row>UC4</th><td> 15</td><td>330</td><td> 10</td><td>  2</td><td>  7</td><td>  2</td><td> 0</td></tr>\n",
       "\t<tr><th scope=row>UC5</th><td> 23</td><td>  2</td><td>  2</td><td>296</td><td>  0</td><td>  3</td><td> 0</td></tr>\n",
       "\t<tr><th scope=row>UC6</th><td>  6</td><td>263</td><td>  8</td><td>  2</td><td>  2</td><td>  0</td><td> 0</td></tr>\n",
       "\t<tr><th scope=row>UC7</th><td>  0</td><td>  1</td><td>  2</td><td> 18</td><td>  0</td><td>228</td><td> 0</td></tr>\n",
       "\t<tr><th scope=row>UC8</th><td>  4</td><td>  0</td><td>  7</td><td>  0</td><td>  0</td><td>  0</td><td>26</td></tr>\n",
       "</tbody>\n",
       "</table>\n"
      ],
      "text/latex": [
       "A matrix: 8 × 7 of type dbl\n",
       "\\begin{tabular}{r|lllllll}\n",
       "  & DC1 & DC2 & DC3 & DC4 & DC5 & DC6 & DC7\\\\\n",
       "\\hline\n",
       "\tUC1 & 639 &  19 &   9 &   8 &  23 &   0 &  0\\\\\n",
       "\tUC2 &  21 &   9 & 556 &   0 &   4 &   1 &  0\\\\\n",
       "\tUC3 & 219 &   2 &  30 &   1 & 303 &   0 &  1\\\\\n",
       "\tUC4 &  15 & 330 &  10 &   2 &   7 &   2 &  0\\\\\n",
       "\tUC5 &  23 &   2 &   2 & 296 &   0 &   3 &  0\\\\\n",
       "\tUC6 &   6 & 263 &   8 &   2 &   2 &   0 &  0\\\\\n",
       "\tUC7 &   0 &   1 &   2 &  18 &   0 & 228 &  0\\\\\n",
       "\tUC8 &   4 &   0 &   7 &   0 &   0 &   0 & 26\\\\\n",
       "\\end{tabular}\n"
      ],
      "text/markdown": [
       "\n",
       "A matrix: 8 × 7 of type dbl\n",
       "\n",
       "| <!--/--> | DC1 | DC2 | DC3 | DC4 | DC5 | DC6 | DC7 |\n",
       "|---|---|---|---|---|---|---|---|\n",
       "| UC1 | 639 |  19 |   9 |   8 |  23 |   0 |  0 |\n",
       "| UC2 |  21 |   9 | 556 |   0 |   4 |   1 |  0 |\n",
       "| UC3 | 219 |   2 |  30 |   1 | 303 |   0 |  1 |\n",
       "| UC4 |  15 | 330 |  10 |   2 |   7 |   2 |  0 |\n",
       "| UC5 |  23 |   2 |   2 | 296 |   0 |   3 |  0 |\n",
       "| UC6 |   6 | 263 |   8 |   2 |   2 |   0 |  0 |\n",
       "| UC7 |   0 |   1 |   2 |  18 |   0 | 228 |  0 |\n",
       "| UC8 |   4 |   0 |   7 |   0 |   0 |   0 | 26 |\n",
       "\n"
      ],
      "text/plain": [
       "    DC1 DC2 DC3 DC4 DC5 DC6 DC7\n",
       "UC1 639  19   9   8  23   0  0 \n",
       "UC2  21   9 556   0   4   1  0 \n",
       "UC3 219   2  30   1 303   0  1 \n",
       "UC4  15 330  10   2   7   2  0 \n",
       "UC5  23   2   2 296   0   3  0 \n",
       "UC6   6 263   8   2   2   0  0 \n",
       "UC7   0   1   2  18   0 228  0 \n",
       "UC8   4   0   7   0   0   0 26 "
      ]
     },
     "metadata": {},
     "output_type": "display_data"
    }
   ],
   "source": [
    "mat"
   ]
  },
  {
   "cell_type": "code",
   "execution_count": null,
   "metadata": {},
   "outputs": [],
   "source": []
  },
  {
   "cell_type": "code",
   "execution_count": 180,
   "metadata": {},
   "outputs": [],
   "source": [
    "circos.clear()"
   ]
  },
  {
   "cell_type": "code",
   "execution_count": 182,
   "metadata": {},
   "outputs": [
    {
     "data": {
      "text/html": [
       "<strong>png:</strong> 2"
      ],
      "text/latex": [
       "\\textbf{png:} 2"
      ],
      "text/markdown": [
       "**png:** 2"
      ],
      "text/plain": [
       "png \n",
       "  2 "
      ]
     },
     "metadata": {},
     "output_type": "display_data"
    }
   ],
   "source": [
    "#color_set1 = brewer.pal(n = nrow(mat), name = \"Set1\")\n",
    "pdf(\"UC_to_DC_chordPlot.pdf\",\n",
    "#    #res=600,\n",
    "    bg=\"white\",width=8, height=8\n",
    "    )\n",
    "\n",
    "color_set2 = c( '#1f77b4',\n",
    "               '#d62728',\n",
    "               '#ff7f0e',\n",
    "               '#9467bd', \n",
    "               '#2ca02c',\n",
    "               '#e377c2',\n",
    "               '#7f7f7f')#,                \n",
    "               #'#7f7f7f')\n",
    "\n",
    "color_set1 = c('#1f77b4', '#ff7f0e', '#2ca02c', '#d62728', '#9467bd', '#8c564b', '#e377c2', '#7f7f7f')\n",
    "\n",
    "grid.col<-c(setNames(color_set1, rownames(mat)), setNames(color_set2, colnames(mat)))\n",
    "\n",
    "\n",
    "par(cex=1.7)\n",
    "\n",
    "\n",
    "chordDiagram(mat, big.gap=40, grid.col = grid.col,\n",
    "             transparency=0.2, link.zindex = rank(mat), \n",
    "             directional=1, direction.type = c(\"diffHeight\", \"arrows\"), link.arr.type = \"big.arrow\",\n",
    "             diffHeight = mm_h(4), annotationTrack = \"grid\", preAllocateTracks = 1, scale=FALSE) \n",
    "             \n",
    "\n",
    "circos.trackPlotRegion(track.index = 1, panel.fun = function(x, y) {\n",
    "    xlim = get.cell.meta.data(\"xlim\")\n",
    "    ylim = get.cell.meta.data(\"ylim\")\n",
    "    sector.name = get.cell.meta.data(\"sector.index\")\n",
    "    circos.text(mean(xlim), \n",
    "                ylim[1] + .1, \n",
    "                sector.name, \n",
    "                facing = \"inside\",#\"clockwise\", \n",
    "                niceFacing = TRUE, \n",
    "                adj = c(0.5, -0.8),\n",
    "                 cex=0.6, col=grid.col[sector.name])\n",
    "    circos.axis(h = \"top\", \n",
    "                labels.cex = 0.5, \n",
    "                major.tick.length = 0.3, \n",
    "                sector.index = sector.name, \n",
    "                track.index = 2)\n",
    "}, bg.border = NA)\n",
    "\n",
    "#circos.clear()\n",
    "\n",
    "dev.off()"
   ]
  },
  {
   "cell_type": "code",
   "execution_count": null,
   "metadata": {},
   "outputs": [],
   "source": []
  },
  {
   "cell_type": "code",
   "execution_count": null,
   "metadata": {},
   "outputs": [],
   "source": []
  },
  {
   "cell_type": "markdown",
   "metadata": {},
   "source": [
    "# Anatomical connectivity chord plot ( Undirected )"
   ]
  },
  {
   "cell_type": "code",
   "execution_count": 90,
   "metadata": {},
   "outputs": [],
   "source": [
    "library(repr)\n",
    "\n",
    "# Change plot size to 4 x 3\n",
    "options(repr.plot.width=14, repr.plot.height=14)"
   ]
  },
  {
   "cell_type": "code",
   "execution_count": 205,
   "metadata": {},
   "outputs": [],
   "source": [
    "mat <- scan(\"./Undirected_anatomical_connectivity/anatomical_connectivity_matrix_undirected.txt\")\n",
    "mat <- matrix(mat, ncol = 12, nrow=12, byrow = TRUE)\n",
    "\n",
    "\n",
    "rownames(mat) = c('Cerebellum', 'Dorsal Thalamus', 'Eminentia Talami', 'Hypothalamus', 'Medulla Oblongata',\n",
    "                 'Peripheral nervous system ', 'Pretectum', 'Retina', 'Tectum_tori', 'Tegmentum', \n",
    "                 'Telencephalon', 'Ventral Thalamus')#,'w_Unassigned')\n",
    "\n",
    "\n",
    "colnames(mat) = c('Cerebellum', 'Dorsal Thalamus', 'Eminentia Talami', 'Hypothalamus', 'Medulla Oblongata',\n",
    "                 'Peripheral nervous system ', 'Pretectum', 'Retina', 'Tectum_tori', 'Tegmentum', \n",
    "                 'Telencephalon', 'Ventral Thalamus')#,'w_Unassigned')\n"
   ]
  },
  {
   "cell_type": "code",
   "execution_count": 82,
   "metadata": {},
   "outputs": [
    {
     "data": {
      "text/html": [
       "<table>\n",
       "<caption>A matrix: 12 × 12 of type dbl</caption>\n",
       "<thead>\n",
       "\t<tr><th></th><th scope=col>Cerebellum</th><th scope=col>Dorsal Thalamus</th><th scope=col>Eminentia Talami</th><th scope=col>Hypothalamus</th><th scope=col>Medulla Oblongata</th><th scope=col>Peripheral nervous system </th><th scope=col>Pretectum</th><th scope=col>Retina</th><th scope=col>Tectum_tori</th><th scope=col>Tegmentum</th><th scope=col>Telencephalon</th><th scope=col>Ventral Thalamus</th></tr>\n",
       "</thead>\n",
       "<tbody>\n",
       "\t<tr><th scope=row>Cerebellum</th><td>    0</td><td> 428</td><td> 127</td><td> 476</td><td>11679</td><td> 316</td><td>1995</td><td>  11</td><td>  494</td><td>1318</td><td> 280</td><td> 471</td></tr>\n",
       "\t<tr><th scope=row>Dorsal Thalamus</th><td>  428</td><td>   0</td><td> 329</td><td> 485</td><td> 4044</td><td>   0</td><td>1518</td><td>  74</td><td>  777</td><td> 673</td><td> 231</td><td> 644</td></tr>\n",
       "\t<tr><th scope=row>Eminentia Talami</th><td>  127</td><td> 329</td><td>   0</td><td> 291</td><td> 1407</td><td>   0</td><td> 408</td><td>  35</td><td>  453</td><td> 110</td><td> 877</td><td> 588</td></tr>\n",
       "\t<tr><th scope=row>Hypothalamus</th><td>  476</td><td> 485</td><td> 291</td><td>   0</td><td> 8396</td><td>  13</td><td>1144</td><td>  49</td><td> 1047</td><td> 832</td><td>2061</td><td> 902</td></tr>\n",
       "\t<tr><th scope=row>Medulla Oblongata</th><td>11679</td><td>4044</td><td>1407</td><td>8396</td><td>    0</td><td>1882</td><td>8719</td><td> 282</td><td>10009</td><td>8903</td><td>4713</td><td>4856</td></tr>\n",
       "\t<tr><th scope=row>Peripheral nervous system </th><td>  316</td><td>   0</td><td>   0</td><td>  13</td><td> 1882</td><td>   0</td><td>   5</td><td>   0</td><td>   23</td><td>  22</td><td>  84</td><td>   1</td></tr>\n",
       "\t<tr><th scope=row>Pretectum</th><td> 1995</td><td>1518</td><td> 408</td><td>1144</td><td> 8719</td><td>   5</td><td>   0</td><td> 528</td><td> 3109</td><td>2108</td><td> 284</td><td>1341</td></tr>\n",
       "\t<tr><th scope=row>Retina</th><td>   11</td><td>  74</td><td>  35</td><td>  49</td><td>  282</td><td>   0</td><td> 528</td><td>   0</td><td> 1210</td><td>  63</td><td>  13</td><td> 128</td></tr>\n",
       "\t<tr><th scope=row>Tectum_tori</th><td>  494</td><td> 777</td><td> 453</td><td>1047</td><td>10009</td><td>  23</td><td>3109</td><td>1210</td><td>    0</td><td>1255</td><td> 132</td><td>1284</td></tr>\n",
       "\t<tr><th scope=row>Tegmentum</th><td> 1318</td><td> 673</td><td> 110</td><td> 832</td><td> 8903</td><td>  22</td><td>2108</td><td>  63</td><td> 1255</td><td>   0</td><td> 182</td><td> 701</td></tr>\n",
       "\t<tr><th scope=row>Telencephalon</th><td>  280</td><td> 231</td><td> 877</td><td>2061</td><td> 4713</td><td>  84</td><td> 284</td><td>  13</td><td>  132</td><td> 182</td><td>   0</td><td>1077</td></tr>\n",
       "\t<tr><th scope=row>Ventral Thalamus</th><td>  471</td><td> 644</td><td> 588</td><td> 902</td><td> 4856</td><td>   1</td><td>1341</td><td> 128</td><td> 1284</td><td> 701</td><td>1077</td><td>   0</td></tr>\n",
       "</tbody>\n",
       "</table>\n"
      ],
      "text/latex": [
       "A matrix: 12 × 12 of type dbl\n",
       "\\begin{tabular}{r|llllllllllll}\n",
       "  & Cerebellum & Dorsal Thalamus & Eminentia Talami & Hypothalamus & Medulla Oblongata & Peripheral nervous system  & Pretectum & Retina & Tectum\\_tori & Tegmentum & Telencephalon & Ventral Thalamus\\\\\n",
       "\\hline\n",
       "\tCerebellum &     0 &  428 &  127 &  476 & 11679 &  316 & 1995 &   11 &   494 & 1318 &  280 &  471\\\\\n",
       "\tDorsal Thalamus &   428 &    0 &  329 &  485 &  4044 &    0 & 1518 &   74 &   777 &  673 &  231 &  644\\\\\n",
       "\tEminentia Talami &   127 &  329 &    0 &  291 &  1407 &    0 &  408 &   35 &   453 &  110 &  877 &  588\\\\\n",
       "\tHypothalamus &   476 &  485 &  291 &    0 &  8396 &   13 & 1144 &   49 &  1047 &  832 & 2061 &  902\\\\\n",
       "\tMedulla Oblongata & 11679 & 4044 & 1407 & 8396 &     0 & 1882 & 8719 &  282 & 10009 & 8903 & 4713 & 4856\\\\\n",
       "\tPeripheral nervous system  &   316 &    0 &    0 &   13 &  1882 &    0 &    5 &    0 &    23 &   22 &   84 &    1\\\\\n",
       "\tPretectum &  1995 & 1518 &  408 & 1144 &  8719 &    5 &    0 &  528 &  3109 & 2108 &  284 & 1341\\\\\n",
       "\tRetina &    11 &   74 &   35 &   49 &   282 &    0 &  528 &    0 &  1210 &   63 &   13 &  128\\\\\n",
       "\tTectum\\_tori &   494 &  777 &  453 & 1047 & 10009 &   23 & 3109 & 1210 &     0 & 1255 &  132 & 1284\\\\\n",
       "\tTegmentum &  1318 &  673 &  110 &  832 &  8903 &   22 & 2108 &   63 &  1255 &    0 &  182 &  701\\\\\n",
       "\tTelencephalon &   280 &  231 &  877 & 2061 &  4713 &   84 &  284 &   13 &   132 &  182 &    0 & 1077\\\\\n",
       "\tVentral Thalamus &   471 &  644 &  588 &  902 &  4856 &    1 & 1341 &  128 &  1284 &  701 & 1077 &    0\\\\\n",
       "\\end{tabular}\n"
      ],
      "text/markdown": [
       "\n",
       "A matrix: 12 × 12 of type dbl\n",
       "\n",
       "| <!--/--> | Cerebellum | Dorsal Thalamus | Eminentia Talami | Hypothalamus | Medulla Oblongata | Peripheral nervous system  | Pretectum | Retina | Tectum_tori | Tegmentum | Telencephalon | Ventral Thalamus |\n",
       "|---|---|---|---|---|---|---|---|---|---|---|---|---|\n",
       "| Cerebellum |     0 |  428 |  127 |  476 | 11679 |  316 | 1995 |   11 |   494 | 1318 |  280 |  471 |\n",
       "| Dorsal Thalamus |   428 |    0 |  329 |  485 |  4044 |    0 | 1518 |   74 |   777 |  673 |  231 |  644 |\n",
       "| Eminentia Talami |   127 |  329 |    0 |  291 |  1407 |    0 |  408 |   35 |   453 |  110 |  877 |  588 |\n",
       "| Hypothalamus |   476 |  485 |  291 |    0 |  8396 |   13 | 1144 |   49 |  1047 |  832 | 2061 |  902 |\n",
       "| Medulla Oblongata | 11679 | 4044 | 1407 | 8396 |     0 | 1882 | 8719 |  282 | 10009 | 8903 | 4713 | 4856 |\n",
       "| Peripheral nervous system  |   316 |    0 |    0 |   13 |  1882 |    0 |    5 |    0 |    23 |   22 |   84 |    1 |\n",
       "| Pretectum |  1995 | 1518 |  408 | 1144 |  8719 |    5 |    0 |  528 |  3109 | 2108 |  284 | 1341 |\n",
       "| Retina |    11 |   74 |   35 |   49 |   282 |    0 |  528 |    0 |  1210 |   63 |   13 |  128 |\n",
       "| Tectum_tori |   494 |  777 |  453 | 1047 | 10009 |   23 | 3109 | 1210 |     0 | 1255 |  132 | 1284 |\n",
       "| Tegmentum |  1318 |  673 |  110 |  832 |  8903 |   22 | 2108 |   63 |  1255 |    0 |  182 |  701 |\n",
       "| Telencephalon |   280 |  231 |  877 | 2061 |  4713 |   84 |  284 |   13 |   132 |  182 |    0 | 1077 |\n",
       "| Ventral Thalamus |   471 |  644 |  588 |  902 |  4856 |    1 | 1341 |  128 |  1284 |  701 | 1077 |    0 |\n",
       "\n"
      ],
      "text/plain": [
       "                           Cerebellum Dorsal Thalamus Eminentia Talami\n",
       "Cerebellum                     0       428             127            \n",
       "Dorsal Thalamus              428         0             329            \n",
       "Eminentia Talami             127       329               0            \n",
       "Hypothalamus                 476       485             291            \n",
       "Medulla Oblongata          11679      4044            1407            \n",
       "Peripheral nervous system    316         0               0            \n",
       "Pretectum                   1995      1518             408            \n",
       "Retina                        11        74              35            \n",
       "Tectum_tori                  494       777             453            \n",
       "Tegmentum                   1318       673             110            \n",
       "Telencephalon                280       231             877            \n",
       "Ventral Thalamus             471       644             588            \n",
       "                           Hypothalamus Medulla Oblongata\n",
       "Cerebellum                  476         11679            \n",
       "Dorsal Thalamus             485          4044            \n",
       "Eminentia Talami            291          1407            \n",
       "Hypothalamus                  0          8396            \n",
       "Medulla Oblongata          8396             0            \n",
       "Peripheral nervous system    13          1882            \n",
       "Pretectum                  1144          8719            \n",
       "Retina                       49           282            \n",
       "Tectum_tori                1047         10009            \n",
       "Tegmentum                   832          8903            \n",
       "Telencephalon              2061          4713            \n",
       "Ventral Thalamus            902          4856            \n",
       "                           Peripheral nervous system  Pretectum Retina\n",
       "Cerebellum                  316                       1995        11  \n",
       "Dorsal Thalamus               0                       1518        74  \n",
       "Eminentia Talami              0                        408        35  \n",
       "Hypothalamus                 13                       1144        49  \n",
       "Medulla Oblongata          1882                       8719       282  \n",
       "Peripheral nervous system     0                          5         0  \n",
       "Pretectum                     5                          0       528  \n",
       "Retina                        0                        528         0  \n",
       "Tectum_tori                  23                       3109      1210  \n",
       "Tegmentum                    22                       2108        63  \n",
       "Telencephalon                84                        284        13  \n",
       "Ventral Thalamus              1                       1341       128  \n",
       "                           Tectum_tori Tegmentum Telencephalon Ventral Thalamus\n",
       "Cerebellum                   494       1318       280           471            \n",
       "Dorsal Thalamus              777        673       231           644            \n",
       "Eminentia Talami             453        110       877           588            \n",
       "Hypothalamus                1047        832      2061           902            \n",
       "Medulla Oblongata          10009       8903      4713          4856            \n",
       "Peripheral nervous system     23         22        84             1            \n",
       "Pretectum                   3109       2108       284          1341            \n",
       "Retina                      1210         63        13           128            \n",
       "Tectum_tori                    0       1255       132          1284            \n",
       "Tegmentum                   1255          0       182           701            \n",
       "Telencephalon                132        182         0          1077            \n",
       "Ventral Thalamus            1284        701      1077             0            "
      ]
     },
     "metadata": {},
     "output_type": "display_data"
    }
   ],
   "source": [
    "mat"
   ]
  },
  {
   "cell_type": "code",
   "execution_count": null,
   "metadata": {},
   "outputs": [],
   "source": []
  },
  {
   "cell_type": "code",
   "execution_count": 86,
   "metadata": {},
   "outputs": [
    {
     "data": {
      "text/html": [
       "<strong>png:</strong> 2"
      ],
      "text/latex": [
       "\\textbf{png:} 2"
      ],
      "text/markdown": [
       "**png:** 2"
      ],
      "text/plain": [
       "png \n",
       "  2 "
      ]
     },
     "metadata": {},
     "output_type": "display_data"
    }
   ],
   "source": [
    "# zindex -  it improves the visualization to put wide links more\n",
    "# forward and to put small links more backward in the plot.\n",
    "\n",
    "# Argument directional is used to illustrate such direction on the plot. directional with value \n",
    "# 1 means the direction is from rows to columns (or from the first column to the second column \n",
    "# for the adjacency list)\n",
    "\n",
    "# scale=TRUE for percent wise depiction\n",
    "\n",
    "pdf(\"./Undirected_anatomical_connectivity/Anatomical_connect_chordPlot_undirected.pdf\",\n",
    "    #res=600,\n",
    "    bg=\"white\", width=8, height=7\n",
    "    )\n",
    "\n",
    "#color_set1 = c('#aec7e8', '#ff7f0e', '#ffbb78', '#2ca02c', '#98df8a',\n",
    "# '#ff9896', '#9467bd', '#c5b0d5', '#8c564b', '#e377c2', \n",
    "# '#f7b6d2', '#7f7f7f')#, '#c7c7c7', '#bcbd22', '#17becf')#,\"grey\")\n",
    "\n",
    "color_set1 = c('#aec7e8',\n",
    " '#f57e20',\n",
    " '#fcba79',\n",
    " '#2da048',\n",
    " '#f69696',\n",
    " '#807f7f',\n",
    " '#9267ac',\n",
    " '#c5b0d5',\n",
    " '#8c574c',\n",
    " '#d77ab1',\n",
    " '#32b9cb',\n",
    " '#9dd089')\n",
    "\n",
    "grid.col<-c(setNames(color_set1, rownames(mat)))#, setNames(color_set2, colnames(mat)))\n",
    "\n",
    "\n",
    "circos.par(gap.after = rep(5, ncol(mat)))\n",
    "\n",
    "col_fun = colorRamp2(c(min(mat), (max(mat)+min(mat))/2, max(mat)), c(\"red\", \"white\", \"green\"))\n",
    "#cor_mat = cor(mat)\n",
    "\n",
    "chordDiagram(mat, grid.col = grid.col, col = col_fun, transparency=0.2, symmetric=TRUE, \n",
    "             link.lwd = 1, link.lty = 1, link.border = 1, \n",
    "            scale=FALSE, annotationTrack = \"grid\", preAllocateTracks = 1)\n",
    "\n",
    "\n",
    "circos.trackPlotRegion(track.index = 1, panel.fun = function(x, y) {\n",
    "    xlim = get.cell.meta.data(\"xlim\")\n",
    "    ylim = get.cell.meta.data(\"ylim\")\n",
    "    sector.name = get.cell.meta.data(\"sector.index\")\n",
    "    circos.text(mean(xlim), \n",
    "                ylim[1] + .1, \n",
    "                sector.name, \n",
    "                facing = \"clockwise\", \n",
    "                niceFacing = TRUE, \n",
    "                adj = c(0, 0.5),\n",
    "                 cex=0.8, col=grid.col[sector.name])\n",
    "    circos.axis(h = \"top\", \n",
    "                labels.cex = 0.6, \n",
    "                major.tick.length = 0.3, \n",
    "                sector.index = sector.name, \n",
    "                track.index = 2, minor.ticks=6)\n",
    "}, bg.border = NA)\n",
    "\n",
    "dev.off()"
   ]
  },
  {
   "cell_type": "code",
   "execution_count": 89,
   "metadata": {},
   "outputs": [],
   "source": [
    "circos.clear()"
   ]
  },
  {
   "cell_type": "code",
   "execution_count": 88,
   "metadata": {},
   "outputs": [
    {
     "data": {
      "text/html": [
       "64890"
      ],
      "text/latex": [
       "64890"
      ],
      "text/markdown": [
       "64890"
      ],
      "text/plain": [
       "[1] 64890"
      ]
     },
     "metadata": {},
     "output_type": "display_data"
    }
   ],
   "source": [
    "# medulla oblongata\n",
    "sum(mat[5,1:12])"
   ]
  },
  {
   "cell_type": "code",
   "execution_count": 92,
   "metadata": {},
   "outputs": [],
   "source": [
    "\n",
    "# highlighting each region.\n",
    "\n",
    "# scale=TRUE for percent wise depiction\n",
    "for (i in 1:12)\n",
    "{\n",
    "    #i=2\n",
    "\n",
    "\n",
    "    color_set1 = c('#aec7e8',\n",
    "                     '#f57e20',\n",
    "                     '#fcba79',\n",
    "                     '#2da048',\n",
    "                     '#f69696',\n",
    "                     '#807f7f',\n",
    "                     '#9267ac',\n",
    "                     '#c5b0d5',\n",
    "                     '#8c574c',\n",
    "                     '#d77ab1',\n",
    "                     '#32b9cb',\n",
    "                     '#9dd089')\n",
    "\n",
    "\n",
    "    # vector of colors where specified region is marked by color while remaining regions are grey.\n",
    "    #color_set.highlight <- ifelse(color_set1 == color_set1[i],color_set1[i],\"#00FF0010\")\n",
    "    #color_set.highlight\n",
    "\n",
    "    pdf(paste(\"./Undirected_anatomical_connectivity/anatomical_connectivity_regionwise/\",row.names(mat)[i],'.pdf'),\n",
    "        #res=600,\n",
    "        bg=\"white\", width=8, height=7\n",
    "        )\n",
    "    \n",
    "    col_mat<-matrix(rep('#00FF0010', 12*12), 12, 12)\n",
    "    col_mat[1:12,i]<-color_set1[i] # replace the values in the matrix for corresponding row and column\n",
    "    col_mat[i,1:12]<-color_set1[i]\n",
    "\n",
    "\n",
    "    grid.col<-c(setNames(color_set1, rownames(mat)))#, setNames(color_set2, colnames(mat)))\n",
    "\n",
    "\n",
    "    circos.par(gap.after = rep(5, ncol(mat)))\n",
    "\n",
    "    \n",
    "    chordDiagram(mat, grid.col=grid.col, col=col_mat, transparency=0.2, symmetric=TRUE, \n",
    "                 scale=FALSE, annotationTrack = \"grid\", preAllocateTracks = 1)#,link.lwd = 1, link.lty = 1, link.border = 1, \n",
    "\n",
    "\n",
    "\n",
    "    circos.trackPlotRegion(track.index = 1, panel.fun = function(x, y) {\n",
    "        xlim = get.cell.meta.data(\"xlim\")\n",
    "        ylim = get.cell.meta.data(\"ylim\")\n",
    "        sector.name = get.cell.meta.data(\"sector.index\")\n",
    "        circos.text(mean(xlim), \n",
    "                    ylim[1] + .1, \n",
    "                    sector.name, \n",
    "                    facing = \"clockwise\", \n",
    "                    niceFacing = TRUE, \n",
    "                    adj = c(0, 0.5),\n",
    "                     cex=0.8, col=grid.col[sector.name])\n",
    "        circos.axis(h = \"top\", \n",
    "                    labels.cex = 0.6, \n",
    "                    major.tick.length = 0.3, \n",
    "                    sector.index = sector.name, \n",
    "                    track.index = 2, minor.ticks=6)\n",
    "    }, bg.border = NA)\n",
    "\n",
    "    dev.off()\n",
    "    circos.clear()\n",
    "}"
   ]
  },
  {
   "cell_type": "code",
   "execution_count": null,
   "metadata": {},
   "outputs": [],
   "source": []
  },
  {
   "cell_type": "code",
   "execution_count": null,
   "metadata": {},
   "outputs": [],
   "source": []
  },
  {
   "cell_type": "markdown",
   "metadata": {},
   "source": [
    "# Anatomical connectivity chord plot Directed"
   ]
  },
  {
   "cell_type": "code",
   "execution_count": null,
   "metadata": {},
   "outputs": [],
   "source": [
    "\n",
    "library(repr)\n",
    "\n",
    "# Change plot size to 4 x 3\n",
    "options(repr.plot.width=14, repr.plot.height=14)"
   ]
  },
  {
   "cell_type": "code",
   "execution_count": 93,
   "metadata": {},
   "outputs": [],
   "source": [
    "mat <- scan(\"./Directed_anatomical_connectivity/anatomical_connectivity_matrix_directed.txt\")\n",
    "mat <- matrix(mat, ncol = 12, nrow=12, byrow = TRUE)\n",
    "\n",
    "\n",
    "rownames(mat) = c('Cerebellum', 'Dorsal Thalamus', 'Eminentia Talami', 'Hypothalamus', 'Medulla Oblongata',\n",
    "                 'Peripheral nervous system ', 'Pretectum', 'Retina', 'Tectum tori', 'Tegmentum', \n",
    "                 'Telencephalon', 'Ventral Thalamus')#,'w_Unassigned')\n",
    "\n",
    "\n",
    "colnames(mat) = c('Cerebellum', 'Dorsal Thalamus', 'Eminentia Talami', 'Hypothalamus', 'Medulla Oblongata',\n",
    "                 'Peripheral nervous system ', 'Pretectum', 'Retina', 'Tectum tori', 'Tegmentum', \n",
    "                 'Telencephalon', 'Ventral Thalamus')#,'w_Unassigned')\n"
   ]
  },
  {
   "cell_type": "code",
   "execution_count": 94,
   "metadata": {},
   "outputs": [
    {
     "data": {
      "text/html": [
       "<table>\n",
       "<caption>A matrix: 12 × 12 of type dbl</caption>\n",
       "<thead>\n",
       "\t<tr><th></th><th scope=col>Cerebellum</th><th scope=col>Dorsal Thalamus</th><th scope=col>Eminentia Talami</th><th scope=col>Hypothalamus</th><th scope=col>Medulla Oblongata</th><th scope=col>Peripheral nervous system </th><th scope=col>Pretectum</th><th scope=col>Retina</th><th scope=col>Tectum tori</th><th scope=col>Tegmentum</th><th scope=col>Telencephalon</th><th scope=col>Ventral Thalamus</th></tr>\n",
       "</thead>\n",
       "<tbody>\n",
       "\t<tr><th scope=row>Cerebellum</th><td>   0</td><td>188</td><td> 56</td><td> 290</td><td>3754</td><td> 34</td><td> 570</td><td> 0</td><td> 208</td><td> 893</td><td> 109</td><td> 316</td></tr>\n",
       "\t<tr><th scope=row>Dorsal Thalamus</th><td>   5</td><td>  0</td><td> 74</td><td> 155</td><td>1173</td><td>  0</td><td> 312</td><td> 4</td><td> 191</td><td> 139</td><td>  24</td><td> 172</td></tr>\n",
       "\t<tr><th scope=row>Eminentia Talami</th><td>   6</td><td>158</td><td>  0</td><td>  89</td><td> 363</td><td>  0</td><td>  91</td><td> 2</td><td> 185</td><td>  67</td><td> 102</td><td> 121</td></tr>\n",
       "\t<tr><th scope=row>Hypothalamus</th><td>  32</td><td> 79</td><td> 38</td><td>   0</td><td>1594</td><td>  1</td><td> 189</td><td> 1</td><td> 289</td><td> 210</td><td> 201</td><td> 223</td></tr>\n",
       "\t<tr><th scope=row>Medulla Oblongata</th><td>2282</td><td>867</td><td>467</td><td>3471</td><td>   0</td><td>210</td><td>2621</td><td>24</td><td>3420</td><td>2566</td><td>1261</td><td>2044</td></tr>\n",
       "\t<tr><th scope=row>Peripheral nervous system </th><td> 166</td><td>  0</td><td>  0</td><td>   3</td><td> 884</td><td>  0</td><td>   0</td><td> 0</td><td>   5</td><td>   8</td><td>  49</td><td>   0</td></tr>\n",
       "\t<tr><th scope=row>Pretectum</th><td> 690</td><td>349</td><td> 70</td><td> 387</td><td>2431</td><td>  3</td><td>   0</td><td>14</td><td> 583</td><td> 683</td><td>  78</td><td> 337</td></tr>\n",
       "\t<tr><th scope=row>Retina</th><td>   0</td><td> 40</td><td> 25</td><td>  39</td><td>  45</td><td>  0</td><td> 408</td><td> 0</td><td> 684</td><td>  25</td><td>  10</td><td>  72</td></tr>\n",
       "\t<tr><th scope=row>Tectum tori</th><td>  55</td><td>215</td><td>100</td><td> 324</td><td>2575</td><td>  8</td><td> 904</td><td>25</td><td>   0</td><td> 360</td><td>  26</td><td> 350</td></tr>\n",
       "\t<tr><th scope=row>Tegmentum</th><td>  59</td><td> 39</td><td>  8</td><td>  76</td><td>2141</td><td>  6</td><td> 145</td><td> 0</td><td> 180</td><td>   0</td><td>   4</td><td>  46</td></tr>\n",
       "\t<tr><th scope=row>Telencephalon</th><td>   6</td><td> 79</td><td>252</td><td> 972</td><td>1243</td><td>  0</td><td>  64</td><td> 0</td><td>  59</td><td> 115</td><td>   0</td><td> 524</td></tr>\n",
       "\t<tr><th scope=row>Ventral Thalamus</th><td>  13</td><td>151</td><td> 81</td><td> 134</td><td>1114</td><td>  0</td><td> 235</td><td> 4</td><td> 483</td><td> 178</td><td>  73</td><td>   0</td></tr>\n",
       "</tbody>\n",
       "</table>\n"
      ],
      "text/latex": [
       "A matrix: 12 × 12 of type dbl\n",
       "\\begin{tabular}{r|llllllllllll}\n",
       "  & Cerebellum & Dorsal Thalamus & Eminentia Talami & Hypothalamus & Medulla Oblongata & Peripheral nervous system  & Pretectum & Retina & Tectum tori & Tegmentum & Telencephalon & Ventral Thalamus\\\\\n",
       "\\hline\n",
       "\tCerebellum &    0 & 188 &  56 &  290 & 3754 &  34 &  570 &  0 &  208 &  893 &  109 &  316\\\\\n",
       "\tDorsal Thalamus &    5 &   0 &  74 &  155 & 1173 &   0 &  312 &  4 &  191 &  139 &   24 &  172\\\\\n",
       "\tEminentia Talami &    6 & 158 &   0 &   89 &  363 &   0 &   91 &  2 &  185 &   67 &  102 &  121\\\\\n",
       "\tHypothalamus &   32 &  79 &  38 &    0 & 1594 &   1 &  189 &  1 &  289 &  210 &  201 &  223\\\\\n",
       "\tMedulla Oblongata & 2282 & 867 & 467 & 3471 &    0 & 210 & 2621 & 24 & 3420 & 2566 & 1261 & 2044\\\\\n",
       "\tPeripheral nervous system  &  166 &   0 &   0 &    3 &  884 &   0 &    0 &  0 &    5 &    8 &   49 &    0\\\\\n",
       "\tPretectum &  690 & 349 &  70 &  387 & 2431 &   3 &    0 & 14 &  583 &  683 &   78 &  337\\\\\n",
       "\tRetina &    0 &  40 &  25 &   39 &   45 &   0 &  408 &  0 &  684 &   25 &   10 &   72\\\\\n",
       "\tTectum tori &   55 & 215 & 100 &  324 & 2575 &   8 &  904 & 25 &    0 &  360 &   26 &  350\\\\\n",
       "\tTegmentum &   59 &  39 &   8 &   76 & 2141 &   6 &  145 &  0 &  180 &    0 &    4 &   46\\\\\n",
       "\tTelencephalon &    6 &  79 & 252 &  972 & 1243 &   0 &   64 &  0 &   59 &  115 &    0 &  524\\\\\n",
       "\tVentral Thalamus &   13 & 151 &  81 &  134 & 1114 &   0 &  235 &  4 &  483 &  178 &   73 &    0\\\\\n",
       "\\end{tabular}\n"
      ],
      "text/markdown": [
       "\n",
       "A matrix: 12 × 12 of type dbl\n",
       "\n",
       "| <!--/--> | Cerebellum | Dorsal Thalamus | Eminentia Talami | Hypothalamus | Medulla Oblongata | Peripheral nervous system  | Pretectum | Retina | Tectum tori | Tegmentum | Telencephalon | Ventral Thalamus |\n",
       "|---|---|---|---|---|---|---|---|---|---|---|---|---|\n",
       "| Cerebellum |    0 | 188 |  56 |  290 | 3754 |  34 |  570 |  0 |  208 |  893 |  109 |  316 |\n",
       "| Dorsal Thalamus |    5 |   0 |  74 |  155 | 1173 |   0 |  312 |  4 |  191 |  139 |   24 |  172 |\n",
       "| Eminentia Talami |    6 | 158 |   0 |   89 |  363 |   0 |   91 |  2 |  185 |   67 |  102 |  121 |\n",
       "| Hypothalamus |   32 |  79 |  38 |    0 | 1594 |   1 |  189 |  1 |  289 |  210 |  201 |  223 |\n",
       "| Medulla Oblongata | 2282 | 867 | 467 | 3471 |    0 | 210 | 2621 | 24 | 3420 | 2566 | 1261 | 2044 |\n",
       "| Peripheral nervous system  |  166 |   0 |   0 |    3 |  884 |   0 |    0 |  0 |    5 |    8 |   49 |    0 |\n",
       "| Pretectum |  690 | 349 |  70 |  387 | 2431 |   3 |    0 | 14 |  583 |  683 |   78 |  337 |\n",
       "| Retina |    0 |  40 |  25 |   39 |   45 |   0 |  408 |  0 |  684 |   25 |   10 |   72 |\n",
       "| Tectum tori |   55 | 215 | 100 |  324 | 2575 |   8 |  904 | 25 |    0 |  360 |   26 |  350 |\n",
       "| Tegmentum |   59 |  39 |   8 |   76 | 2141 |   6 |  145 |  0 |  180 |    0 |    4 |   46 |\n",
       "| Telencephalon |    6 |  79 | 252 |  972 | 1243 |   0 |   64 |  0 |   59 |  115 |    0 |  524 |\n",
       "| Ventral Thalamus |   13 | 151 |  81 |  134 | 1114 |   0 |  235 |  4 |  483 |  178 |   73 |    0 |\n",
       "\n"
      ],
      "text/plain": [
       "                           Cerebellum Dorsal Thalamus Eminentia Talami\n",
       "Cerebellum                    0       188              56             \n",
       "Dorsal Thalamus               5         0              74             \n",
       "Eminentia Talami              6       158               0             \n",
       "Hypothalamus                 32        79              38             \n",
       "Medulla Oblongata          2282       867             467             \n",
       "Peripheral nervous system   166         0               0             \n",
       "Pretectum                   690       349              70             \n",
       "Retina                        0        40              25             \n",
       "Tectum tori                  55       215             100             \n",
       "Tegmentum                    59        39               8             \n",
       "Telencephalon                 6        79             252             \n",
       "Ventral Thalamus             13       151              81             \n",
       "                           Hypothalamus Medulla Oblongata\n",
       "Cerebellum                  290         3754             \n",
       "Dorsal Thalamus             155         1173             \n",
       "Eminentia Talami             89          363             \n",
       "Hypothalamus                  0         1594             \n",
       "Medulla Oblongata          3471            0             \n",
       "Peripheral nervous system     3          884             \n",
       "Pretectum                   387         2431             \n",
       "Retina                       39           45             \n",
       "Tectum tori                 324         2575             \n",
       "Tegmentum                    76         2141             \n",
       "Telencephalon               972         1243             \n",
       "Ventral Thalamus            134         1114             \n",
       "                           Peripheral nervous system  Pretectum Retina\n",
       "Cerebellum                  34                         570       0    \n",
       "Dorsal Thalamus              0                         312       4    \n",
       "Eminentia Talami             0                          91       2    \n",
       "Hypothalamus                 1                         189       1    \n",
       "Medulla Oblongata          210                        2621      24    \n",
       "Peripheral nervous system    0                           0       0    \n",
       "Pretectum                    3                           0      14    \n",
       "Retina                       0                         408       0    \n",
       "Tectum tori                  8                         904      25    \n",
       "Tegmentum                    6                         145       0    \n",
       "Telencephalon                0                          64       0    \n",
       "Ventral Thalamus             0                         235       4    \n",
       "                           Tectum tori Tegmentum Telencephalon Ventral Thalamus\n",
       "Cerebellum                  208         893       109           316            \n",
       "Dorsal Thalamus             191         139        24           172            \n",
       "Eminentia Talami            185          67       102           121            \n",
       "Hypothalamus                289         210       201           223            \n",
       "Medulla Oblongata          3420        2566      1261          2044            \n",
       "Peripheral nervous system     5           8        49             0            \n",
       "Pretectum                   583         683        78           337            \n",
       "Retina                      684          25        10            72            \n",
       "Tectum tori                   0         360        26           350            \n",
       "Tegmentum                   180           0         4            46            \n",
       "Telencephalon                59         115         0           524            \n",
       "Ventral Thalamus            483         178        73             0            "
      ]
     },
     "metadata": {},
     "output_type": "display_data"
    }
   ],
   "source": [
    "mat"
   ]
  },
  {
   "cell_type": "code",
   "execution_count": 97,
   "metadata": {},
   "outputs": [
    {
     "data": {
      "text/html": [
       "<strong>png:</strong> 2"
      ],
      "text/latex": [
       "\\textbf{png:} 2"
      ],
      "text/markdown": [
       "**png:** 2"
      ],
      "text/plain": [
       "png \n",
       "  2 "
      ]
     },
     "metadata": {},
     "output_type": "display_data"
    }
   ],
   "source": [
    "# zindex -  it improves the visualization to put wide links more\n",
    "# forward and to put small links more backward in the plot.\n",
    "\n",
    "# Argument directional is used to illustrate such direction on the plot. directional with value \n",
    "# 1 means the direction is from rows to columns (or from the first column to the second column \n",
    "# for the adjacency list)\n",
    "\n",
    "# scale=TRUE for percent wise depiction\n",
    "\n",
    "#pdf(\"Fig4E_dirComm_connect.pdf\",\n",
    "#    #res=600,\n",
    "#    bg=\"white\"\n",
    "#    )\n",
    "pdf(\"./Directed_anatomical_connectivity/Anatomical_connect_chordPlot_directed.pdf\",\n",
    "    #res=600,\n",
    "    bg=\"white\", width=8, height=7\n",
    "    )\n",
    "\n",
    "\n",
    "#par(cex=2.5)\n",
    "# 12 colors\n",
    "color_set1 = c('#aec7e8',\n",
    "                     '#f57e20',\n",
    "                     '#fcba79',\n",
    "                     '#2da048',\n",
    "                     '#f69696',\n",
    "                     '#807f7f',\n",
    "                     '#9267ac',\n",
    "                     '#c5b0d5',\n",
    "                     '#8c574c',\n",
    "                     '#d77ab1',\n",
    "                     '#32b9cb',\n",
    "                     '#9dd089')\n",
    "\n",
    "grid.col<-c(setNames(color_set1, rownames(mat)))#, setNames(color_set2, colnames(mat)))\n",
    "\n",
    "circos.par(gap.after = rep(5, ncol(mat)))\n",
    "\n",
    "chordDiagram(mat, grid.col = color_set1, transparency=0.2,link.zindex = rank(mat), \n",
    "             directional=1,direction.type = c(\"diffHeight\", \"arrows\"), link.arr.type = \"big.arrow\",\n",
    "             diffHeight = mm_h(3), \n",
    "              scale=FALSE, annotationTrack = \"grid\", preAllocateTracks = 1,)\n",
    "            #link.lwd = 1, link.lty = 1, link.border = 1, \n",
    "             \n",
    "            #direction.type = \"arrows\", link.arr.length = 0.2)\n",
    "            #annotationTrack =  c(\"name\", \"grid\")    \n",
    "\n",
    "circos.trackPlotRegion(track.index = 1, panel.fun = function(x, y) {\n",
    "    xlim = get.cell.meta.data(\"xlim\")\n",
    "    ylim = get.cell.meta.data(\"ylim\")\n",
    "    sector.name = get.cell.meta.data(\"sector.index\")\n",
    "    circos.text(mean(xlim), \n",
    "                ylim[1] + .1, \n",
    "                sector.name, \n",
    "                facing = \"clockwise\", \n",
    "                niceFacing = TRUE, \n",
    "                adj = c(0, 0.5),\n",
    "                 cex=0.8, col=grid.col[sector.name])\n",
    "    circos.axis(h = \"top\", \n",
    "                labels.cex = 0.6, \n",
    "                major.tick.length = 0.3, \n",
    "                sector.index = sector.name, \n",
    "                track.index = 2, minor.ticks=3)\n",
    "}, bg.border = NA)\n",
    "\n",
    "dev.off()"
   ]
  },
  {
   "cell_type": "code",
   "execution_count": 99,
   "metadata": {},
   "outputs": [],
   "source": [
    "circos.clear()"
   ]
  },
  {
   "cell_type": "code",
   "execution_count": null,
   "metadata": {},
   "outputs": [],
   "source": []
  },
  {
   "cell_type": "code",
   "execution_count": 100,
   "metadata": {},
   "outputs": [],
   "source": [
    "\n",
    "# highlighting each region.\n",
    "\n",
    "# scale=TRUE for percent wise depiction\n",
    "for (i in 1:12)\n",
    "{\n",
    "    #i=2\n",
    "\n",
    "\n",
    "    color_set1 = c('#aec7e8',\n",
    "                     '#f57e20',\n",
    "                     '#fcba79',\n",
    "                     '#2da048',\n",
    "                     '#f69696',\n",
    "                     '#807f7f',\n",
    "                     '#9267ac',\n",
    "                     '#c5b0d5',\n",
    "                     '#8c574c',\n",
    "                     '#d77ab1',\n",
    "                     '#32b9cb',\n",
    "                     '#9dd089')\n",
    "\n",
    "\n",
    "    # vector of colors where specified region is marked by color while remaining regions are grey.\n",
    "    #color_set.highlight <- ifelse(color_set1 == color_set1[i],color_set1[i],\"#00FF0010\")\n",
    "    #color_set.highlight\n",
    "\n",
    "    pdf(paste(\"./Directed_anatomical_connectivity/anatomical_connectivity_regionwise/\",row.names(mat)[i],'.pdf'),\n",
    "        #res=600,\n",
    "        bg=\"white\", width=8, height=7\n",
    "        )\n",
    "    \n",
    "    col_mat<-matrix(rep('#00FF0010', 12*12), 12, 12)\n",
    "    col_mat[1:12,i]<-color_set1 # replace the values in the matrix for corresponding row and column\n",
    "    col_mat[i,1:12]<-color_set1[i]\n",
    "\n",
    "\n",
    "    grid.col<-c(setNames(color_set1, rownames(mat)))#, setNames(color_set2, colnames(mat)))\n",
    "\n",
    "\n",
    "    circos.par(gap.after = rep(5, ncol(mat)))\n",
    "\n",
    "    chordDiagram(mat, grid.col=grid.col, col=col_mat, transparency=0.2,link.zindex = rank(mat), \n",
    "                 directional=1,direction.type = c(\"diffHeight\", \"arrows\"), link.arr.type = \"big.arrow\",\n",
    "                 diffHeight = mm_h(3), \n",
    "                  scale=FALSE, annotationTrack = \"grid\", preAllocateTracks = 1,)\n",
    "                #link.lwd = 1, link.lty = 1, link.border = 1, \n",
    "                 \n",
    "\n",
    "\n",
    "    circos.trackPlotRegion(track.index = 1, panel.fun = function(x, y) {\n",
    "    xlim = get.cell.meta.data(\"xlim\")\n",
    "    ylim = get.cell.meta.data(\"ylim\")\n",
    "    sector.name = get.cell.meta.data(\"sector.index\")\n",
    "    circos.text(mean(xlim), \n",
    "                ylim[1] + .1, \n",
    "                sector.name, \n",
    "                facing = \"clockwise\", \n",
    "                niceFacing = TRUE, \n",
    "                adj = c(0, 0.5),\n",
    "                 cex=0.8, col=grid.col[sector.name])\n",
    "    circos.axis(h = \"top\", \n",
    "                labels.cex = 0.6, \n",
    "                major.tick.length = 0.3, \n",
    "                sector.index = sector.name, \n",
    "                track.index = 2, minor.ticks=3)\n",
    "    }, bg.border = NA)\n",
    "\n",
    "    dev.off()\n",
    "    circos.clear()\n",
    "}"
   ]
  },
  {
   "cell_type": "code",
   "execution_count": null,
   "metadata": {},
   "outputs": [],
   "source": []
  },
  {
   "cell_type": "code",
   "execution_count": null,
   "metadata": {},
   "outputs": [],
   "source": []
  },
  {
   "cell_type": "markdown",
   "metadata": {},
   "source": [
    "# Anatomical regions - UC chord plot"
   ]
  },
  {
   "cell_type": "code",
   "execution_count": 101,
   "metadata": {},
   "outputs": [],
   "source": [
    "mat <- scan(\"./Undirected_anatomical_connectivity/anatomRegions_UC_matrix.txt\")\n",
    "mat <- matrix(mat, ncol = 8, nrow=12, byrow = TRUE)\n",
    "\n",
    "colnames(mat) = paste0(\"UC\", 1:ncol(mat))\n",
    "rownames(mat) = c('Cerebellum', 'Dorsal Thalamus', 'Eminentia Talami', 'Hypothalamus', 'Medulla Oblongata',\n",
    "                 'Peripheral nervous system ', 'Pretectum', 'Retina', 'Tectum tori', 'Tegmentum', \n",
    "                 'Telencephalon', 'Ventral Thalamus')#,'w_Unassigned')\n",
    "\n",
    "\n",
    "mat<-t(mat)"
   ]
  },
  {
   "cell_type": "code",
   "execution_count": 102,
   "metadata": {},
   "outputs": [
    {
     "data": {
      "text/html": [
       "<table>\n",
       "<caption>A matrix: 8 × 12 of type dbl</caption>\n",
       "<thead>\n",
       "\t<tr><th></th><th scope=col>Cerebellum</th><th scope=col>Dorsal Thalamus</th><th scope=col>Eminentia Talami</th><th scope=col>Hypothalamus</th><th scope=col>Medulla Oblongata</th><th scope=col>Peripheral nervous system </th><th scope=col>Pretectum</th><th scope=col>Retina</th><th scope=col>Tectum tori</th><th scope=col>Tegmentum</th><th scope=col>Telencephalon</th><th scope=col>Ventral Thalamus</th></tr>\n",
       "</thead>\n",
       "<tbody>\n",
       "\t<tr><th scope=row>UC1</th><td> 35</td><td>17</td><td> 3</td><td>34</td><td>357</td><td> 9</td><td>109</td><td> 0</td><td> 16</td><td>72</td><td>  0</td><td>17</td></tr>\n",
       "\t<tr><th scope=row>UC2</th><td> 35</td><td> 8</td><td> 1</td><td> 5</td><td>474</td><td>32</td><td>  3</td><td> 0</td><td> 11</td><td> 2</td><td>  1</td><td> 6</td></tr>\n",
       "\t<tr><th scope=row>UC3</th><td>354</td><td> 7</td><td> 0</td><td> 0</td><td>130</td><td> 1</td><td> 12</td><td> 0</td><td>  2</td><td>46</td><td>  1</td><td> 3</td></tr>\n",
       "\t<tr><th scope=row>UC4</th><td>  4</td><td>16</td><td> 6</td><td>15</td><td> 31</td><td> 0</td><td> 86</td><td>26</td><td>161</td><td> 4</td><td>  0</td><td>22</td></tr>\n",
       "\t<tr><th scope=row>UC5</th><td>  3</td><td>16</td><td> 3</td><td>59</td><td>217</td><td> 0</td><td>  1</td><td> 0</td><td>  1</td><td> 2</td><td> 15</td><td> 9</td></tr>\n",
       "\t<tr><th scope=row>UC6</th><td>  3</td><td> 3</td><td> 3</td><td> 8</td><td> 47</td><td> 0</td><td> 10</td><td>42</td><td>145</td><td> 4</td><td>  0</td><td>15</td></tr>\n",
       "\t<tr><th scope=row>UC7</th><td>  1</td><td> 3</td><td>27</td><td>10</td><td>  1</td><td>12</td><td>  1</td><td> 1</td><td>  0</td><td> 1</td><td>178</td><td>15</td></tr>\n",
       "\t<tr><th scope=row>UC8</th><td>  0</td><td> 0</td><td> 0</td><td> 5</td><td> 28</td><td> 1</td><td>  0</td><td> 0</td><td>  0</td><td> 0</td><td>  0</td><td> 0</td></tr>\n",
       "</tbody>\n",
       "</table>\n"
      ],
      "text/latex": [
       "A matrix: 8 × 12 of type dbl\n",
       "\\begin{tabular}{r|llllllllllll}\n",
       "  & Cerebellum & Dorsal Thalamus & Eminentia Talami & Hypothalamus & Medulla Oblongata & Peripheral nervous system  & Pretectum & Retina & Tectum tori & Tegmentum & Telencephalon & Ventral Thalamus\\\\\n",
       "\\hline\n",
       "\tUC1 &  35 & 17 &  3 & 34 & 357 &  9 & 109 &  0 &  16 & 72 &   0 & 17\\\\\n",
       "\tUC2 &  35 &  8 &  1 &  5 & 474 & 32 &   3 &  0 &  11 &  2 &   1 &  6\\\\\n",
       "\tUC3 & 354 &  7 &  0 &  0 & 130 &  1 &  12 &  0 &   2 & 46 &   1 &  3\\\\\n",
       "\tUC4 &   4 & 16 &  6 & 15 &  31 &  0 &  86 & 26 & 161 &  4 &   0 & 22\\\\\n",
       "\tUC5 &   3 & 16 &  3 & 59 & 217 &  0 &   1 &  0 &   1 &  2 &  15 &  9\\\\\n",
       "\tUC6 &   3 &  3 &  3 &  8 &  47 &  0 &  10 & 42 & 145 &  4 &   0 & 15\\\\\n",
       "\tUC7 &   1 &  3 & 27 & 10 &   1 & 12 &   1 &  1 &   0 &  1 & 178 & 15\\\\\n",
       "\tUC8 &   0 &  0 &  0 &  5 &  28 &  1 &   0 &  0 &   0 &  0 &   0 &  0\\\\\n",
       "\\end{tabular}\n"
      ],
      "text/markdown": [
       "\n",
       "A matrix: 8 × 12 of type dbl\n",
       "\n",
       "| <!--/--> | Cerebellum | Dorsal Thalamus | Eminentia Talami | Hypothalamus | Medulla Oblongata | Peripheral nervous system  | Pretectum | Retina | Tectum tori | Tegmentum | Telencephalon | Ventral Thalamus |\n",
       "|---|---|---|---|---|---|---|---|---|---|---|---|---|\n",
       "| UC1 |  35 | 17 |  3 | 34 | 357 |  9 | 109 |  0 |  16 | 72 |   0 | 17 |\n",
       "| UC2 |  35 |  8 |  1 |  5 | 474 | 32 |   3 |  0 |  11 |  2 |   1 |  6 |\n",
       "| UC3 | 354 |  7 |  0 |  0 | 130 |  1 |  12 |  0 |   2 | 46 |   1 |  3 |\n",
       "| UC4 |   4 | 16 |  6 | 15 |  31 |  0 |  86 | 26 | 161 |  4 |   0 | 22 |\n",
       "| UC5 |   3 | 16 |  3 | 59 | 217 |  0 |   1 |  0 |   1 |  2 |  15 |  9 |\n",
       "| UC6 |   3 |  3 |  3 |  8 |  47 |  0 |  10 | 42 | 145 |  4 |   0 | 15 |\n",
       "| UC7 |   1 |  3 | 27 | 10 |   1 | 12 |   1 |  1 |   0 |  1 | 178 | 15 |\n",
       "| UC8 |   0 |  0 |  0 |  5 |  28 |  1 |   0 |  0 |   0 |  0 |   0 |  0 |\n",
       "\n"
      ],
      "text/plain": [
       "    Cerebellum Dorsal Thalamus Eminentia Talami Hypothalamus Medulla Oblongata\n",
       "UC1  35        17               3               34           357              \n",
       "UC2  35         8               1                5           474              \n",
       "UC3 354         7               0                0           130              \n",
       "UC4   4        16               6               15            31              \n",
       "UC5   3        16               3               59           217              \n",
       "UC6   3         3               3                8            47              \n",
       "UC7   1         3              27               10             1              \n",
       "UC8   0         0               0                5            28              \n",
       "    Peripheral nervous system  Pretectum Retina Tectum tori Tegmentum\n",
       "UC1  9                         109        0      16         72       \n",
       "UC2 32                           3        0      11          2       \n",
       "UC3  1                          12        0       2         46       \n",
       "UC4  0                          86       26     161          4       \n",
       "UC5  0                           1        0       1          2       \n",
       "UC6  0                          10       42     145          4       \n",
       "UC7 12                           1        1       0          1       \n",
       "UC8  1                           0        0       0          0       \n",
       "    Telencephalon Ventral Thalamus\n",
       "UC1   0           17              \n",
       "UC2   1            6              \n",
       "UC3   1            3              \n",
       "UC4   0           22              \n",
       "UC5  15            9              \n",
       "UC6   0           15              \n",
       "UC7 178           15              \n",
       "UC8   0            0              "
      ]
     },
     "metadata": {},
     "output_type": "display_data"
    }
   ],
   "source": [
    "mat"
   ]
  },
  {
   "cell_type": "code",
   "execution_count": 49,
   "metadata": {},
   "outputs": [],
   "source": []
  },
  {
   "cell_type": "code",
   "execution_count": 106,
   "metadata": {},
   "outputs": [
    {
     "data": {
      "text/html": [
       "<strong>png:</strong> 2"
      ],
      "text/latex": [
       "\\textbf{png:} 2"
      ],
      "text/markdown": [
       "**png:** 2"
      ],
      "text/plain": [
       "png \n",
       "  2 "
      ]
     },
     "metadata": {},
     "output_type": "display_data"
    }
   ],
   "source": [
    "color_set2 = c('#aec7e8',\n",
    "                     '#f57e20',\n",
    "                     '#fcba79',\n",
    "                     '#2da048',\n",
    "                     '#f69696',\n",
    "                     '#807f7f',\n",
    "                     '#9267ac',\n",
    "                     '#c5b0d5',\n",
    "                     '#8c574c',\n",
    "                     '#d77ab1',\n",
    "                     '#32b9cb',\n",
    "                     '#9dd089')\n",
    "\n",
    "\n",
    "color_set1 = rep(\"grey\", nrow(mat))\n",
    "\n",
    "\n",
    "pdf(\"./Undirected_anatomical_connectivity/UC_anatomRegions_mapping_Chordplot.pdf\",\n",
    "    #res=600,\n",
    "    bg=\"white\", width=8, height=7\n",
    "    )\n",
    "\n",
    "grid.col<-c(setNames(color_set1, rownames(mat)), setNames(color_set2, colnames(mat)))\n",
    "\n",
    "\n",
    "chordDiagram(mat, big.gap=30, grid.col = grid.col, column.col = color_set2,\n",
    "             transparency=0.1, link.zindex = rank(mat), \n",
    "             directional=1, direction.type = c(\"diffHeight\", \"arrows\"), link.arr.type = \"big.arrow\",\n",
    "             diffHeight = mm_h(4), \n",
    "             annotationTrack = \"grid\", preAllocateTracks = 1, scale=TRUE)   \n",
    "             #link.lwd = 1, link.lty = 1, link.border = 1, \n",
    "                \n",
    "\n",
    "\n",
    "\n",
    "circos.trackPlotRegion(track.index = 1, panel.fun = function(x, y) {\n",
    "    xlim = get.cell.meta.data(\"xlim\")\n",
    "    ylim = get.cell.meta.data(\"ylim\")\n",
    "    sector.name = get.cell.meta.data(\"sector.index\")\n",
    "    circos.text(mean(xlim), \n",
    "                ylim[1] + .1, \n",
    "                sector.name, \n",
    "                facing = \"clockwise\", \n",
    "                niceFacing = TRUE, \n",
    "                adj = c(0, 0.5),\n",
    "                col=grid.col[sector.name], cex=0.8)\n",
    "    circos.axis(h = \"top\", \n",
    "                major.at = c(0,0.5,1.0),\n",
    "                labels.cex = 0.6, \n",
    "                major.tick.length = 0.3, \n",
    "                sector.index = sector.name, \n",
    "                track.index = 2)\n",
    "               #minor.ticks = 6)\n",
    "}, bg.border = NA)\n",
    "\n",
    "circos.clear()\n",
    "dev.off()\n",
    "\n",
    "\n"
   ]
  },
  {
   "cell_type": "code",
   "execution_count": null,
   "metadata": {},
   "outputs": [],
   "source": []
  },
  {
   "cell_type": "markdown",
   "metadata": {},
   "source": [
    "# Anatomical regions - DC chord plot"
   ]
  },
  {
   "cell_type": "code",
   "execution_count": 108,
   "metadata": {},
   "outputs": [],
   "source": [
    "mat <- scan(\"./Directed_anatomical_connectivity/anatomRegions_DC_matrix.txt\")\n",
    "mat <- matrix(mat, ncol = 7, nrow=12, byrow = TRUE)\n",
    "\n",
    "colnames(mat) = paste0(\"DC\", 1:ncol(mat))\n",
    "rownames(mat) = c('Cerebellum', 'Dorsal Thalamus', 'Eminentia Talami', 'Hypothalamus', 'Medulla Oblongata',\n",
    "                 'Peripheral nervous system ', 'Pretectum', 'Retina', 'Tectum tori', 'Tegmentum', \n",
    "                 'Telencephalon', 'Ventral Thalamus')#,'w_Unassigned')\n",
    "\n",
    "\n",
    "mat<-t(mat)"
   ]
  },
  {
   "cell_type": "code",
   "execution_count": 109,
   "metadata": {},
   "outputs": [
    {
     "data": {
      "text/html": [
       "<table>\n",
       "<caption>A matrix: 7 × 12 of type dbl</caption>\n",
       "<thead>\n",
       "\t<tr><th></th><th scope=col>Cerebellum</th><th scope=col>Dorsal Thalamus</th><th scope=col>Eminentia Talami</th><th scope=col>Hypothalamus</th><th scope=col>Medulla Oblongata</th><th scope=col>Peripheral nervous system </th><th scope=col>Pretectum</th><th scope=col>Retina</th><th scope=col>Tectum tori</th><th scope=col>Tegmentum</th><th scope=col>Telencephalon</th><th scope=col>Ventral Thalamus</th></tr>\n",
       "</thead>\n",
       "<tbody>\n",
       "\t<tr><th scope=row>DC1</th><td>107</td><td>24</td><td> 4</td><td>38</td><td>463</td><td> 9</td><td>100</td><td> 0</td><td> 22</td><td>111</td><td>  2</td><td>17</td></tr>\n",
       "\t<tr><th scope=row>DC2</th><td>  8</td><td>17</td><td>11</td><td>21</td><td> 80</td><td> 0</td><td> 91</td><td>64</td><td>295</td><td> 10</td><td>  0</td><td>32</td></tr>\n",
       "\t<tr><th scope=row>DC3</th><td> 55</td><td> 9</td><td> 2</td><td> 8</td><td>468</td><td>34</td><td>  5</td><td> 0</td><td> 14</td><td>  2</td><td>  2</td><td>11</td></tr>\n",
       "\t<tr><th scope=row>DC4</th><td>  3</td><td>14</td><td> 7</td><td>58</td><td>203</td><td> 0</td><td>  0</td><td> 1</td><td>  2</td><td>  2</td><td> 24</td><td>13</td></tr>\n",
       "\t<tr><th scope=row>DC5</th><td>261</td><td> 0</td><td> 0</td><td> 0</td><td> 45</td><td> 0</td><td> 25</td><td> 2</td><td>  1</td><td>  5</td><td>  0</td><td> 0</td></tr>\n",
       "\t<tr><th scope=row>DC6</th><td>  1</td><td> 6</td><td>21</td><td>10</td><td>  1</td><td>11</td><td>  1</td><td> 0</td><td>  0</td><td>  1</td><td>167</td><td>14</td></tr>\n",
       "\t<tr><th scope=row>DC7</th><td>  0</td><td> 0</td><td> 0</td><td> 1</td><td> 23</td><td> 0</td><td>  0</td><td> 0</td><td>  0</td><td>  0</td><td>  0</td><td> 0</td></tr>\n",
       "</tbody>\n",
       "</table>\n"
      ],
      "text/latex": [
       "A matrix: 7 × 12 of type dbl\n",
       "\\begin{tabular}{r|llllllllllll}\n",
       "  & Cerebellum & Dorsal Thalamus & Eminentia Talami & Hypothalamus & Medulla Oblongata & Peripheral nervous system  & Pretectum & Retina & Tectum tori & Tegmentum & Telencephalon & Ventral Thalamus\\\\\n",
       "\\hline\n",
       "\tDC1 & 107 & 24 &  4 & 38 & 463 &  9 & 100 &  0 &  22 & 111 &   2 & 17\\\\\n",
       "\tDC2 &   8 & 17 & 11 & 21 &  80 &  0 &  91 & 64 & 295 &  10 &   0 & 32\\\\\n",
       "\tDC3 &  55 &  9 &  2 &  8 & 468 & 34 &   5 &  0 &  14 &   2 &   2 & 11\\\\\n",
       "\tDC4 &   3 & 14 &  7 & 58 & 203 &  0 &   0 &  1 &   2 &   2 &  24 & 13\\\\\n",
       "\tDC5 & 261 &  0 &  0 &  0 &  45 &  0 &  25 &  2 &   1 &   5 &   0 &  0\\\\\n",
       "\tDC6 &   1 &  6 & 21 & 10 &   1 & 11 &   1 &  0 &   0 &   1 & 167 & 14\\\\\n",
       "\tDC7 &   0 &  0 &  0 &  1 &  23 &  0 &   0 &  0 &   0 &   0 &   0 &  0\\\\\n",
       "\\end{tabular}\n"
      ],
      "text/markdown": [
       "\n",
       "A matrix: 7 × 12 of type dbl\n",
       "\n",
       "| <!--/--> | Cerebellum | Dorsal Thalamus | Eminentia Talami | Hypothalamus | Medulla Oblongata | Peripheral nervous system  | Pretectum | Retina | Tectum tori | Tegmentum | Telencephalon | Ventral Thalamus |\n",
       "|---|---|---|---|---|---|---|---|---|---|---|---|---|\n",
       "| DC1 | 107 | 24 |  4 | 38 | 463 |  9 | 100 |  0 |  22 | 111 |   2 | 17 |\n",
       "| DC2 |   8 | 17 | 11 | 21 |  80 |  0 |  91 | 64 | 295 |  10 |   0 | 32 |\n",
       "| DC3 |  55 |  9 |  2 |  8 | 468 | 34 |   5 |  0 |  14 |   2 |   2 | 11 |\n",
       "| DC4 |   3 | 14 |  7 | 58 | 203 |  0 |   0 |  1 |   2 |   2 |  24 | 13 |\n",
       "| DC5 | 261 |  0 |  0 |  0 |  45 |  0 |  25 |  2 |   1 |   5 |   0 |  0 |\n",
       "| DC6 |   1 |  6 | 21 | 10 |   1 | 11 |   1 |  0 |   0 |   1 | 167 | 14 |\n",
       "| DC7 |   0 |  0 |  0 |  1 |  23 |  0 |   0 |  0 |   0 |   0 |   0 |  0 |\n",
       "\n"
      ],
      "text/plain": [
       "    Cerebellum Dorsal Thalamus Eminentia Talami Hypothalamus Medulla Oblongata\n",
       "DC1 107        24               4               38           463              \n",
       "DC2   8        17              11               21            80              \n",
       "DC3  55         9               2                8           468              \n",
       "DC4   3        14               7               58           203              \n",
       "DC5 261         0               0                0            45              \n",
       "DC6   1         6              21               10             1              \n",
       "DC7   0         0               0                1            23              \n",
       "    Peripheral nervous system  Pretectum Retina Tectum tori Tegmentum\n",
       "DC1  9                         100        0      22         111      \n",
       "DC2  0                          91       64     295          10      \n",
       "DC3 34                           5        0      14           2      \n",
       "DC4  0                           0        1       2           2      \n",
       "DC5  0                          25        2       1           5      \n",
       "DC6 11                           1        0       0           1      \n",
       "DC7  0                           0        0       0           0      \n",
       "    Telencephalon Ventral Thalamus\n",
       "DC1   2           17              \n",
       "DC2   0           32              \n",
       "DC3   2           11              \n",
       "DC4  24           13              \n",
       "DC5   0            0              \n",
       "DC6 167           14              \n",
       "DC7   0            0              "
      ]
     },
     "metadata": {},
     "output_type": "display_data"
    }
   ],
   "source": [
    "mat"
   ]
  },
  {
   "cell_type": "code",
   "execution_count": 110,
   "metadata": {},
   "outputs": [
    {
     "data": {
      "text/html": [
       "<strong>png:</strong> 2"
      ],
      "text/latex": [
       "\\textbf{png:} 2"
      ],
      "text/markdown": [
       "**png:** 2"
      ],
      "text/plain": [
       "png \n",
       "  2 "
      ]
     },
     "metadata": {},
     "output_type": "display_data"
    }
   ],
   "source": [
    "color_set2 = c('#aec7e8',\n",
    "                     '#f57e20',\n",
    "                     '#fcba79',\n",
    "                     '#2da048',\n",
    "                     '#f69696',\n",
    "                     '#807f7f',\n",
    "                     '#9267ac',\n",
    "                     '#c5b0d5',\n",
    "                     '#8c574c',\n",
    "                     '#d77ab1',\n",
    "                     '#32b9cb',\n",
    "                     '#9dd089')\n",
    "\n",
    "\n",
    "color_set1 = rep(\"grey\", nrow(mat))\n",
    "\n",
    "\n",
    "pdf(\"./Directed_anatomical_connectivity/DC_anatomRegions_mapping_Chordplot.pdf\",\n",
    "    #res=600,\n",
    "    bg=\"white\", width=8, height=7\n",
    "    )\n",
    "\n",
    "grid.col<-c(setNames(color_set1, rownames(mat)), setNames(color_set2, colnames(mat)))\n",
    "\n",
    "\n",
    "chordDiagram(mat, big.gap=30, grid.col = grid.col, column.col = color_set2,\n",
    "             transparency=0.1, link.zindex = rank(mat), \n",
    "             directional=1, direction.type = c(\"diffHeight\", \"arrows\"), link.arr.type = \"big.arrow\",\n",
    "             diffHeight = mm_h(4), \n",
    "             annotationTrack = \"grid\", preAllocateTracks = 1, scale=TRUE)   \n",
    "             #link.lwd = 1, link.lty = 1, link.border = 1, \n",
    "                \n",
    "\n",
    "\n",
    "\n",
    "circos.trackPlotRegion(track.index = 1, panel.fun = function(x, y) {\n",
    "    xlim = get.cell.meta.data(\"xlim\")\n",
    "    ylim = get.cell.meta.data(\"ylim\")\n",
    "    sector.name = get.cell.meta.data(\"sector.index\")\n",
    "    circos.text(mean(xlim), \n",
    "                ylim[1] + .1, \n",
    "                sector.name, \n",
    "                facing = \"clockwise\", \n",
    "                niceFacing = TRUE, \n",
    "                adj = c(0, 0.5),\n",
    "                col=grid.col[sector.name], cex=0.8)\n",
    "    circos.axis(h = \"top\", \n",
    "                major.at = c(0,0.5,1.0),\n",
    "                labels.cex = 0.6, \n",
    "                major.tick.length = 0.3, \n",
    "                sector.index = sector.name, \n",
    "                track.index = 2)\n",
    "               #minor.ticks = 6)\n",
    "}, bg.border = NA)\n",
    "\n",
    "circos.clear()\n",
    "dev.off()\n",
    "\n",
    "\n"
   ]
  },
  {
   "cell_type": "code",
   "execution_count": null,
   "metadata": {},
   "outputs": [],
   "source": []
  },
  {
   "cell_type": "code",
   "execution_count": null,
   "metadata": {},
   "outputs": [],
   "source": []
  },
  {
   "cell_type": "code",
   "execution_count": 92,
   "metadata": {},
   "outputs": [
    {
     "data": {
      "image/png": "[encoded data removed]",
      "text/plain": [
       "plot without title"
      ]
     },
     "metadata": {
      "image/png": {
       "height": 600,
       "width": 600
      }
     },
     "output_type": "display_data"
    }
   ],
   "source": [
    "sectors = letters[1:4]\n",
    "circos.par(points.overflow.warning = FALSE)\n",
    "circos.initialize(sectors, xlim = c(0, 10))\n",
    "circos.trackPlotRegion(sectors, ylim = c(0, 10),\n",
    "  track.height = 0.5, panel.fun = function(x, y) {\n",
    "    circos.text(3, 1, \"inside\", facing = \"inside\", cex = 0.8)\n",
    "    circos.text(7, 1, \"outside\", facing = \"outside\", cex = 0.8)\n",
    "    circos.text(0, 5, \"reverse.clockwise\", facing = \"reverse.clockwise\",\n",
    "        adj = c(0.5, 0), cex = 0.8)\n",
    "    circos.text(10, 5, \"clockwise\", facing = \"clockwise\", adj = c(0.5, 0),\n",
    "        cex = 0.8)\n",
    "    circos.text(5, 5, \"downward\", facing = \"downward\", cex = 0.8)\n",
    "    circos.text(3, 9, \"====bending.inside====\", facing = \"bending.inside\",\n",
    "        cex = 0.8)\n",
    "    circos.text(7, 9, \"====bending.outside====\", facing = \"bending.outside\",\n",
    "        cex = 0.8)\n",
    "})\n",
    "#circos.clear()"
   ]
  }
 ],
 "metadata": {
  "kernelspec": {
   "display_name": "R",
   "language": "R",
   "name": "ir"
  },
  "language_info": {
   "codemirror_mode": "r",
   "file_extension": ".r",
   "mimetype": "text/x-r-source",
   "name": "R",
   "pygments_lexer": "r",
   "version": "3.6.3"
  }
 },
 "nbformat": 4,
 "nbformat_minor": 4
}
