{
 "cells": [
  {
   "cell_type": "code",
   "execution_count": 1,
   "metadata": {},
   "outputs": [],
   "source": [
    "import numpy as np\n",
    "import os\n",
    "\n",
    "from scipy.spatial import distance\n",
    "import matplotlib.pyplot as plt\n",
    "import networkx as nx\n",
    "import copy\n",
    "from scipy import stats\n",
    "from copy import deepcopy\n",
    "import time\n",
    "import re"
   ]
  },
  {
   "cell_type": "code",
   "execution_count": 2,
   "metadata": {},
   "outputs": [],
   "source": [
    "def sorted_alphanumeric(data):\n",
    "    convert = lambda text: int(text) if text.isdigit() else text.lower()\n",
    "    alphanum_key = lambda key: [ convert(c) for c in re.split('([0-9]+)', key) ] \n",
    "    return sorted(data, key=alphanum_key)\n"
   ]
  },
  {
   "cell_type": "code",
   "execution_count": 3,
   "metadata": {},
   "outputs": [],
   "source": [
    "def extract_position(fname):\n",
    "    neuron_data = np.loadtxt(fname)\n",
    "    #print(fname)\n",
    "    #print(neuron_data.shape)\n",
    "    if neuron_data.ndim == 1:#  there exists files which do not have any neurites\n",
    "        return np.zeros((1,3)), neuron_data[2:5]\n",
    "    #else:\n",
    "    soma = neuron_data[0,2:5] # considering only the positions/coordinates\n",
    "    #print(soma)\n",
    "    neurites = neuron_data[1:,2:5]\n",
    "    return neurites,soma # neurites refers to either axon terminals/dendrites. It is a loose term.\n"
   ]
  },
  {
   "cell_type": "code",
   "execution_count": 4,
   "metadata": {},
   "outputs": [],
   "source": [
    "def count_connections(axonTerminalsA, dendritesB, synaptic_cleft):\n",
    "    # cdist is used to calculate euclidean distance between axon terminals and neurites\n",
    "    # dist_axonTerminalsA_dendritesB is 2d array of dimension nrows(axonTerminalsA) x nrows(dendritesB)\n",
    "    dist_axonTerminalsA_dendritesB = distance.cdist(axonTerminalsA, dendritesB)\n",
    "    #count all the dist less than 3um as a connection btw axon terminal A and dendrite B\n",
    "    connections = np.count_nonzero(dist_axonTerminalsA_dendritesB <= synaptic_cleft)\n",
    "    return connections\n"
   ]
  },
  {
   "cell_type": "code",
   "execution_count": 6,
   "metadata": {},
   "outputs": [],
   "source": [
    "def extract_adjacency(file_path_axon, file_path_dendrite, synaptic_cleft):\n",
    "\n",
    "    file_list_axon=[f for f in sorted_alphanumeric(os.listdir(file_path_axon)) if f.endswith('.swc')\n",
    "                and os.path.isfile(os.path.join(file_path_axon, f))]\n",
    "    file_list_dendrite=[f for f in sorted_alphanumeric(os.listdir(file_path_dendrite)) if f.endswith('.swc')\n",
    "                        and os.path.isfile(os.path.join(file_path_dendrite, f))]# redundant but simply taken\n",
    "\n",
    "    neuron_names = []\n",
    "    n_neurons = len(file_list_axon)\n",
    "    adjacency = np.zeros((n_neurons,n_neurons))\n",
    "    \n",
    "    start = time.time()\n",
    "    counter = 0 \n",
    "    \n",
    "    \n",
    "    for i in range(n_neurons):\n",
    "        j_list = list(range(i+1, n_neurons))\n",
    "\n",
    "        for j in j_list:\n",
    "\n",
    "            axonTerminalsA, somaA = extract_position(file_path_axon+file_list_axon[i])\n",
    "            dendritesB, somaB = extract_position(file_path_dendrite+file_list_dendrite[j])\n",
    "\n",
    "            axonTerminalsB, somaB = extract_position(file_path_axon+file_list_axon[j])\n",
    "            dendritesA, somaA = extract_position(file_path_dendrite+file_list_dendrite[i])\n",
    "\n",
    "\n",
    "            if np.all(axonTerminalsA==0):\n",
    "                adjacency[i,j] = 0\n",
    "            else:\n",
    "                adjacency[i,j] = count_connections(axonTerminalsA, dendritesB, synaptic_cleft)\n",
    "\n",
    "            if np.all(axonTerminalsB==0):\n",
    "                adjacency[j,i] = 0\n",
    "            else:\n",
    "                adjacency[j,i] = count_connections(axonTerminalsB, dendritesA, synaptic_cleft)\n",
    "        \n",
    "        counter+=1\n",
    "        \n",
    "        if (counter%100)==0:\n",
    "            end=time.time()\n",
    "            print(i, \"%.3f min\"%((end-start)/60))\n",
    "            start = time.time()\n",
    "                \n",
    "        neuron_names.append(file_list_axon[i][:-4])\n",
    "\n",
    "    return adjacency, neuron_names\n"
   ]
  },
  {
   "cell_type": "code",
   "execution_count": 7,
   "metadata": {},
   "outputs": [
    {
     "name": "stdout",
     "output_type": "stream",
     "text": [
      "99 19.634 min\n",
      "199 26.073 min\n",
      "299 12.588 min\n",
      "399 9.431 min\n",
      "499 9.197 min\n",
      "599 10.042 min\n",
      "699 10.306 min\n",
      "799 10.157 min\n",
      "899 9.503 min\n",
      "999 13.650 min\n",
      "1099 10.901 min\n",
      "1199 15.235 min\n",
      "1299 11.785 min\n",
      "1399 9.739 min\n",
      "1499 8.823 min\n",
      "1599 8.878 min\n",
      "1699 9.227 min\n",
      "1799 7.416 min\n",
      "1899 5.989 min\n",
      "1999 4.864 min\n",
      "2099 5.033 min\n",
      "2199 4.316 min\n",
      "2299 3.744 min\n",
      "2399 3.778 min\n",
      "2499 3.276 min\n",
      "2599 3.090 min\n",
      "2699 2.579 min\n",
      "2799 2.129 min\n",
      "2899 1.718 min\n",
      "2999 1.190 min\n",
      "3099 0.605 min\n"
     ]
    }
   ],
   "source": [
    "file_path_axon = \"./dendrites_axonTermials/axon_terminals/\"\n",
    "file_path_dendrite = \"./dendrites_axonTermials/input_dendrites/\"\n",
    "synaptic_cleft=5\n",
    "\n",
    "adjacency, neuron_names = extract_adjacency(file_path_axon, file_path_dendrite, synaptic_cleft=synaptic_cleft)\n"
   ]
  },
  {
   "cell_type": "code",
   "execution_count": 8,
   "metadata": {},
   "outputs": [],
   "source": [
    "np.save(\"adjacency_synaptic_cleft_5.000um.npy\", adjacency.astype(np.int64))\n"
   ]
  },
  {
   "cell_type": "code",
   "execution_count": null,
   "metadata": {},
   "outputs": [],
   "source": []
  },
  {
   "cell_type": "code",
   "execution_count": null,
   "metadata": {},
   "outputs": [],
   "source": []
  }
 ],
 "metadata": {
  "kernelspec": {
   "display_name": "Python 3",
   "language": "python",
   "name": "python3"
  },
  "language_info": {
   "codemirror_mode": {
    "name": "ipython",
    "version": 3
   },
   "file_extension": ".py",
   "mimetype": "text/x-python",
   "name": "python",
   "nbconvert_exporter": "python",
   "pygments_lexer": "ipython3",
   "version": "3.6.9"
  }
 },
 "nbformat": 4,
 "nbformat_minor": 4
}
