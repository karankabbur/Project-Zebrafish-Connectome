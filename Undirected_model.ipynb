{
 "cells": [
  {
   "cell_type": "code",
   "execution_count": 1,
   "metadata": {},
   "outputs": [],
   "source": [
    "import numpy as np\n",
    "import os\n",
    "\n",
    "from scipy.spatial import distance\n",
    "import matplotlib.pyplot as plt    \n",
    "import copy\n",
    "from scipy import stats\n",
    "from copy import deepcopy\n",
    "import time\n",
    "import re\n"
   ]
  },
  {
   "cell_type": "code",
   "execution_count": 2,
   "metadata": {},
   "outputs": [],
   "source": [
    "def sorted_alphanumeric(data):\n",
    "    convert = lambda text: int(text) if text.isdigit() else text.lower()\n",
    "    alphanum_key = lambda key: [ convert(c) for c in re.split('([0-9]+)', key) ]\n",
    "    return sorted(data, key=alphanum_key)"
   ]
  },
  {
   "cell_type": "code",
   "execution_count": 3,
   "metadata": {},
   "outputs": [],
   "source": [
    "def extract_position(fname):\n",
    "    neuron_data = np.loadtxt(fname)\n",
    "    #print(fname)\n",
    "    #print(neuron_data.shape)\n",
    "    if neuron_data.ndim == 1:#  there exists files which do not have any neurites\n",
    "        return np.zeros((1,3)), neuron_data[2:5]\n",
    "    #else:\n",
    "    soma = neuron_data[0,2:5] # considering only the positions/coordinates\n",
    "    #print(soma)\n",
    "    neurites = neuron_data[1:,2:5]\n",
    "    return neurites,soma # neurites refers to either axon terminals/dendrites. It is a loose term. \n",
    "\n",
    "\n",
    "def count_connections(neuritesA, neuritesB, synaptic_cleft):\n",
    "    # cdist is used to calculate euclidean distance between all endpoints of neuronA and all endpoints of neuronB\n",
    "    # dist_axonTerminalsA_dendritesB is 2d array of dimension nrows(axonTerminalsA) x nrows(dendritesB)\n",
    "    dist_neuritesA_neuritesB = distance.cdist(neuritesA, neuritesB) \n",
    "    #count all the dist less than 5um as a connection btw single neurite A and single neurite B\n",
    "    connections = np.count_nonzero(dist_neuritesA_neuritesB <= synaptic_cleft) \n",
    "    return connections\n",
    "\n",
    "\n",
    "\n",
    "def extract_adjacency(file_path, synaptic_cleft):    \n",
    "    \n",
    "    file_list=[f for f in sorted_alphanumeric(os.listdir(file_path)) if f.endswith('.swc')\n",
    "                    and os.path.isfile(os.path.join(file_path, f))]\n",
    "    \n",
    "    neuron_names = []\n",
    "    n_neurons = len(file_list)\n",
    "    adjacency = np.zeros((n_neurons,n_neurons))\n",
    "    \n",
    "    \n",
    "    start = time.time()\n",
    "    counter = 0 \n",
    "    \n",
    "    for i in range(n_neurons):\n",
    "        \n",
    "        #print(i)\n",
    "        j_list = list(range(i+1, n_neurons))\n",
    "\n",
    "        for j in j_list:\n",
    "            \n",
    "            neuritesA, somaA = extract_position(file_path + file_list[i])\n",
    "            neuritesB, somaB = extract_position(file_path + file_list[j])\n",
    "           \n",
    "            if np.all(neuritesA==0) or np.all(neuritesB==0):#np.zeros((1,3)):\n",
    "                adjacency[i,j] = 0\n",
    "                adjacency[j,i] = 0\n",
    "            else:\n",
    "                num_connections = count_connections(neuritesA, neuritesB, synaptic_cleft) \n",
    "                adjacency[i,j] = num_connections\n",
    "                adjacency[j,i] = num_connections\n",
    "        counter+=1\n",
    "        if (counter%100)==0:\n",
    "            end=time.time()\n",
    "            print(i, \"%.3f min\"%((end-start)/60))\n",
    "            start = time.time()\n",
    "            \n",
    "        neuron_names.append(file_list[i][:-4])# [:-4] becoz we don't want \".swc\" in the end\n",
    "    \n",
    "    return adjacency, neuron_names \n"
   ]
  },
  {
   "cell_type": "code",
   "execution_count": null,
   "metadata": {},
   "outputs": [],
   "source": [
    "# Code to obtain undirected network or adjacency matrices for proximity range between 1 - 10 um.\n",
    "\n",
    "#def run_parallel(synaptic_cleft):\n",
    "#    file_path = \"./strhl_num_1_dataset/\"\n",
    "#    adjacency, neuron_names = extract_adjacency(file_path, synaptic_cleft=synaptic_cleft)\n",
    "#    np.save(\"undir_adjacency_synaptic_cleft_%.3f um.npy\"%synaptic_cleft, adjacency.astype(np.int64))\n",
    "\n",
    "#import multiprocessing\n",
    "#pool_obj = multiprocessing.Pool(processes=32)\n",
    "\n",
    "#_ = pool_obj.map(run_parallel, np.linspace(1,10,32))\n"
   ]
  },
  {
   "cell_type": "code",
   "execution_count": 4,
   "metadata": {},
   "outputs": [
    {
     "name": "stdout",
     "output_type": "stream",
     "text": [
      "99 16.675 min\n",
      "199 26.583 min\n",
      "299 11.742 min\n",
      "399 8.120 min\n",
      "499 8.008 min\n",
      "599 9.084 min\n",
      "699 9.359 min\n",
      "799 9.294 min\n",
      "899 8.593 min\n",
      "999 9.233 min\n",
      "1099 8.543 min\n",
      "1199 8.322 min\n",
      "1299 7.261 min\n",
      "1399 9.743 min\n",
      "1499 6.365 min\n",
      "1599 5.962 min\n",
      "1699 10.266 min\n",
      "1799 8.241 min\n",
      "1899 6.679 min\n",
      "1999 5.315 min\n",
      "2099 5.025 min\n",
      "2199 4.391 min\n",
      "2299 3.734 min\n",
      "2399 3.426 min\n",
      "2499 3.069 min\n",
      "2599 3.306 min\n",
      "2699 2.879 min\n",
      "2799 2.910 min\n",
      "2899 1.932 min\n",
      "2999 1.198 min\n",
      "3099 0.720 min\n"
     ]
    }
   ],
   "source": [
    "# Here we use proximity range and synaptic cleft interchangeably\n",
    "\n",
    "# for proximity range or synaptic cleft equal to 5um\n",
    "\n",
    "synaptic_cleft = 5\n",
    "\n",
    "file_path = \"./strhl_num_1_dataset/\"\n",
    "adjacency, neuron_names = extract_adjacency(file_path, synaptic_cleft=synaptic_cleft)\n"
   ]
  },
  {
   "cell_type": "code",
   "execution_count": 5,
   "metadata": {},
   "outputs": [],
   "source": [
    "np.save(\"undirected_adj_synaptic_cleft_%.3f um.npy\"%synaptic_cleft, adjacency.astype(np.int64))\n"
   ]
  },
  {
   "cell_type": "code",
   "execution_count": null,
   "metadata": {},
   "outputs": [],
   "source": []
  },
  {
   "cell_type": "code",
   "execution_count": null,
   "metadata": {},
   "outputs": [],
   "source": []
  },
  {
   "cell_type": "code",
   "execution_count": null,
   "metadata": {},
   "outputs": [],
   "source": []
  }
 ],
 "metadata": {
  "kernelspec": {
   "display_name": "Python 3",
   "language": "python",
   "name": "python3"
  },
  "language_info": {
   "codemirror_mode": {
    "name": "ipython",
    "version": 3
   },
   "file_extension": ".py",
   "mimetype": "text/x-python",
   "name": "python",
   "nbconvert_exporter": "python",
   "pygments_lexer": "ipython3",
   "version": "3.6.9"
  }
 },
 "nbformat": 4,
 "nbformat_minor": 4
}
